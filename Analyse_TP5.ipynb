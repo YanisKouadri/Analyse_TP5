{
  "nbformat": 4,
  "nbformat_minor": 0,
  "metadata": {
    "colab": {
      "provenance": [],
      "gpuType": "T4"
    },
    "kernelspec": {
      "name": "python3",
      "display_name": "Python 3"
    },
    "language_info": {
      "name": "python"
    },
    "accelerator": "GPU"
  },
  "cells": [
    {
      "cell_type": "markdown",
      "source": [
        "**We Prepare all the necessary data in one snippet before answering the questions**\n",
        "\n",
        "*We call the dataset \"imagenet100\" even though we use imagenet10, so that the imported scripts keep working.*"
      ],
      "metadata": {
        "id": "H-w8dyEttmXF"
      }
    },
    {
      "cell_type": "code",
      "source": [
        "from google.colab import files, drive\n",
        "uploaded = files.upload()\n",
        "drive.mount('/content/drive', force_remount=True)\n",
        "\n",
        "!if [ -d cs294-158-ssl ]; then rm -Rf cs294-158-ssl; fi\n",
        "!git clone https://github.com/wilson1yan/cs294-158-ssl\n",
        "!pip install cs294-158-ssl/\n",
        "\n",
        "import os\n",
        "os.chdir('cs294-158-ssl')\n",
        "!cp -r '/content/drive/MyDrive/Colab Notebooks/M2/analyse_tp5-2/data' .\n",
        "!cp -r '/content/drive/MyDrive/Colab Notebooks/M2/analyse_tp5-2/results' .\n",
        "\n",
        "from deepul_helper.demos import load_model_and_data, evaluate_accuracy, display_nearest_neighbors, show_context_encoder_inpainting\n",
        "%matplotlib inline\n",
        "\n",
        "%mkdir ~/.kaggle\n",
        "%cd ..\n",
        "%cp kaggle.json ~/.kaggle/\n",
        "! chmod 600 ~/.kaggle/kaggle.json\n",
        "%cd cs294-158-ssl\n",
        "! kaggle datasets download ambityga/imagenet100 -p 'data/imagenet/'\n",
        "drive.flush_and_unmount()\n",
        "!unzip -q 'data/imagenet/imagenet100.zip' -d 'data/imagenet/'\n",
        "%rm -r 'data/imagenet/imagenet100.zip'\n",
        "%mv data/imagenet/train.X1 data/imagenet/train\n",
        "%mv data/imagenet/val.X data/imagenet/val\n",
        "! python create_imagenet_subset.py 10\n",
        "%mv data/imagenet10 data/imagenet100\n",
        "! pip install git+https://github.com/ildoonet/pytorch-gradual-warmup-lr.git"
      ],
      "metadata": {
        "colab": {
          "base_uri": "https://localhost:8080/",
          "height": 718
        },
        "id": "1Ltmmz82RJ8n",
        "outputId": "ace8d62a-90c4-4076-c40f-aa154d5a02b0"
      },
      "execution_count": null,
      "outputs": [
        {
          "output_type": "display_data",
          "data": {
            "text/plain": [
              "<IPython.core.display.HTML object>"
            ],
            "text/html": [
              "\n",
              "     <input type=\"file\" id=\"files-17c8d60f-0509-45d1-baad-d26194e8e0f5\" name=\"files[]\" multiple disabled\n",
              "        style=\"border:none\" />\n",
              "     <output id=\"result-17c8d60f-0509-45d1-baad-d26194e8e0f5\">\n",
              "      Upload widget is only available when the cell has been executed in the\n",
              "      current browser session. Please rerun this cell to enable.\n",
              "      </output>\n",
              "      <script>// Copyright 2017 Google LLC\n",
              "//\n",
              "// Licensed under the Apache License, Version 2.0 (the \"License\");\n",
              "// you may not use this file except in compliance with the License.\n",
              "// You may obtain a copy of the License at\n",
              "//\n",
              "//      http://www.apache.org/licenses/LICENSE-2.0\n",
              "//\n",
              "// Unless required by applicable law or agreed to in writing, software\n",
              "// distributed under the License is distributed on an \"AS IS\" BASIS,\n",
              "// WITHOUT WARRANTIES OR CONDITIONS OF ANY KIND, either express or implied.\n",
              "// See the License for the specific language governing permissions and\n",
              "// limitations under the License.\n",
              "\n",
              "/**\n",
              " * @fileoverview Helpers for google.colab Python module.\n",
              " */\n",
              "(function(scope) {\n",
              "function span(text, styleAttributes = {}) {\n",
              "  const element = document.createElement('span');\n",
              "  element.textContent = text;\n",
              "  for (const key of Object.keys(styleAttributes)) {\n",
              "    element.style[key] = styleAttributes[key];\n",
              "  }\n",
              "  return element;\n",
              "}\n",
              "\n",
              "// Max number of bytes which will be uploaded at a time.\n",
              "const MAX_PAYLOAD_SIZE = 100 * 1024;\n",
              "\n",
              "function _uploadFiles(inputId, outputId) {\n",
              "  const steps = uploadFilesStep(inputId, outputId);\n",
              "  const outputElement = document.getElementById(outputId);\n",
              "  // Cache steps on the outputElement to make it available for the next call\n",
              "  // to uploadFilesContinue from Python.\n",
              "  outputElement.steps = steps;\n",
              "\n",
              "  return _uploadFilesContinue(outputId);\n",
              "}\n",
              "\n",
              "// This is roughly an async generator (not supported in the browser yet),\n",
              "// where there are multiple asynchronous steps and the Python side is going\n",
              "// to poll for completion of each step.\n",
              "// This uses a Promise to block the python side on completion of each step,\n",
              "// then passes the result of the previous step as the input to the next step.\n",
              "function _uploadFilesContinue(outputId) {\n",
              "  const outputElement = document.getElementById(outputId);\n",
              "  const steps = outputElement.steps;\n",
              "\n",
              "  const next = steps.next(outputElement.lastPromiseValue);\n",
              "  return Promise.resolve(next.value.promise).then((value) => {\n",
              "    // Cache the last promise value to make it available to the next\n",
              "    // step of the generator.\n",
              "    outputElement.lastPromiseValue = value;\n",
              "    return next.value.response;\n",
              "  });\n",
              "}\n",
              "\n",
              "/**\n",
              " * Generator function which is called between each async step of the upload\n",
              " * process.\n",
              " * @param {string} inputId Element ID of the input file picker element.\n",
              " * @param {string} outputId Element ID of the output display.\n",
              " * @return {!Iterable<!Object>} Iterable of next steps.\n",
              " */\n",
              "function* uploadFilesStep(inputId, outputId) {\n",
              "  const inputElement = document.getElementById(inputId);\n",
              "  inputElement.disabled = false;\n",
              "\n",
              "  const outputElement = document.getElementById(outputId);\n",
              "  outputElement.innerHTML = '';\n",
              "\n",
              "  const pickedPromise = new Promise((resolve) => {\n",
              "    inputElement.addEventListener('change', (e) => {\n",
              "      resolve(e.target.files);\n",
              "    });\n",
              "  });\n",
              "\n",
              "  const cancel = document.createElement('button');\n",
              "  inputElement.parentElement.appendChild(cancel);\n",
              "  cancel.textContent = 'Cancel upload';\n",
              "  const cancelPromise = new Promise((resolve) => {\n",
              "    cancel.onclick = () => {\n",
              "      resolve(null);\n",
              "    };\n",
              "  });\n",
              "\n",
              "  // Wait for the user to pick the files.\n",
              "  const files = yield {\n",
              "    promise: Promise.race([pickedPromise, cancelPromise]),\n",
              "    response: {\n",
              "      action: 'starting',\n",
              "    }\n",
              "  };\n",
              "\n",
              "  cancel.remove();\n",
              "\n",
              "  // Disable the input element since further picks are not allowed.\n",
              "  inputElement.disabled = true;\n",
              "\n",
              "  if (!files) {\n",
              "    return {\n",
              "      response: {\n",
              "        action: 'complete',\n",
              "      }\n",
              "    };\n",
              "  }\n",
              "\n",
              "  for (const file of files) {\n",
              "    const li = document.createElement('li');\n",
              "    li.append(span(file.name, {fontWeight: 'bold'}));\n",
              "    li.append(span(\n",
              "        `(${file.type || 'n/a'}) - ${file.size} bytes, ` +\n",
              "        `last modified: ${\n",
              "            file.lastModifiedDate ? file.lastModifiedDate.toLocaleDateString() :\n",
              "                                    'n/a'} - `));\n",
              "    const percent = span('0% done');\n",
              "    li.appendChild(percent);\n",
              "\n",
              "    outputElement.appendChild(li);\n",
              "\n",
              "    const fileDataPromise = new Promise((resolve) => {\n",
              "      const reader = new FileReader();\n",
              "      reader.onload = (e) => {\n",
              "        resolve(e.target.result);\n",
              "      };\n",
              "      reader.readAsArrayBuffer(file);\n",
              "    });\n",
              "    // Wait for the data to be ready.\n",
              "    let fileData = yield {\n",
              "      promise: fileDataPromise,\n",
              "      response: {\n",
              "        action: 'continue',\n",
              "      }\n",
              "    };\n",
              "\n",
              "    // Use a chunked sending to avoid message size limits. See b/62115660.\n",
              "    let position = 0;\n",
              "    do {\n",
              "      const length = Math.min(fileData.byteLength - position, MAX_PAYLOAD_SIZE);\n",
              "      const chunk = new Uint8Array(fileData, position, length);\n",
              "      position += length;\n",
              "\n",
              "      const base64 = btoa(String.fromCharCode.apply(null, chunk));\n",
              "      yield {\n",
              "        response: {\n",
              "          action: 'append',\n",
              "          file: file.name,\n",
              "          data: base64,\n",
              "        },\n",
              "      };\n",
              "\n",
              "      let percentDone = fileData.byteLength === 0 ?\n",
              "          100 :\n",
              "          Math.round((position / fileData.byteLength) * 100);\n",
              "      percent.textContent = `${percentDone}% done`;\n",
              "\n",
              "    } while (position < fileData.byteLength);\n",
              "  }\n",
              "\n",
              "  // All done.\n",
              "  yield {\n",
              "    response: {\n",
              "      action: 'complete',\n",
              "    }\n",
              "  };\n",
              "}\n",
              "\n",
              "scope.google = scope.google || {};\n",
              "scope.google.colab = scope.google.colab || {};\n",
              "scope.google.colab._files = {\n",
              "  _uploadFiles,\n",
              "  _uploadFilesContinue,\n",
              "};\n",
              "})(self);\n",
              "</script> "
            ]
          },
          "metadata": {}
        },
        {
          "output_type": "stream",
          "name": "stdout",
          "text": [
            "Saving kaggle.json to kaggle.json\n",
            "Mounted at /content/drive\n",
            "Cloning into 'cs294-158-ssl'...\n",
            "remote: Enumerating objects: 611, done.\u001b[K\n",
            "remote: Counting objects: 100% (189/189), done.\u001b[K\n",
            "remote: Compressing objects: 100% (136/136), done.\u001b[K\n",
            "remote: Total 611 (delta 115), reused 119 (delta 53), pack-reused 422\u001b[K\n",
            "Receiving objects: 100% (611/611), 3.11 MiB | 27.50 MiB/s, done.\n",
            "Resolving deltas: 100% (424/424), done.\n",
            "Processing ./cs294-158-ssl\n",
            "  Preparing metadata (setup.py) ... \u001b[?25l\u001b[?25hdone\n",
            "Building wheels for collected packages: deepul-helper\n",
            "  Building wheel for deepul-helper (setup.py) ... \u001b[?25l\u001b[?25hdone\n",
            "  Created wheel for deepul-helper: filename=deepul_helper-0.1.0-py3-none-any.whl size=25298 sha256=91401b4c6585d8a0cdba37263512f81663b83a18bdf66a57c2df2a66eb57dd10\n",
            "  Stored in directory: /root/.cache/pip/wheels/e3/df/97/281e32d717214451862e0e558746de423b9ef530b7376421e2\n",
            "Successfully built deepul-helper\n",
            "Installing collected packages: deepul-helper\n",
            "Successfully installed deepul-helper-0.1.0\n",
            "/content\n",
            "/content/cs294-158-ssl\n",
            "Downloading imagenet100.zip to data/imagenet\n",
            "100% 16.1G/16.1G [06:51<00:00, 43.9MB/s]\n",
            "100% 16.1G/16.1G [06:51<00:00, 42.1MB/s]\n",
            "Creating a subset of ImageNet with 10 classes\n",
            "100% 10/10 [00:24<00:00,  2.41s/it]\n",
            "Collecting git+https://github.com/ildoonet/pytorch-gradual-warmup-lr.git\n",
            "  Cloning https://github.com/ildoonet/pytorch-gradual-warmup-lr.git to /tmp/pip-req-build-blw_j3zw\n",
            "  Running command git clone --filter=blob:none --quiet https://github.com/ildoonet/pytorch-gradual-warmup-lr.git /tmp/pip-req-build-blw_j3zw\n",
            "  Resolved https://github.com/ildoonet/pytorch-gradual-warmup-lr.git to commit 6b5e8953a80aef5b324104dc0c2e9b8c34d622bd\n",
            "  Preparing metadata (setup.py) ... \u001b[?25l\u001b[?25hdone\n",
            "Building wheels for collected packages: warmup-scheduler\n",
            "  Building wheel for warmup-scheduler (setup.py) ... \u001b[?25l\u001b[?25hdone\n",
            "  Created wheel for warmup-scheduler: filename=warmup_scheduler-0.3.2-py3-none-any.whl size=3863 sha256=1bd187e20beedf5ccd31f2a86d45e757a84559fe67d20f837e781907e7855228\n",
            "  Stored in directory: /tmp/pip-ephem-wheel-cache-awi6d4sa/wheels/49/78/e6/9168d5844935482a171c7880a0626fa1c6c412b55666635f59\n",
            "Successfully built warmup-scheduler\n",
            "Installing collected packages: warmup-scheduler\n",
            "Successfully installed warmup-scheduler-0.3.2\n"
          ]
        }
      ]
    },
    {
      "cell_type": "markdown",
      "source": [
        "We generate a test dataset from the training data (1250 images for the test out of 13000 images in total for all sets)"
      ],
      "metadata": {
        "id": "PuW4_80I8x37"
      }
    },
    {
      "cell_type": "code",
      "source": [
        "import os\n",
        "import shutil\n",
        "from random import sample\n",
        "\n",
        "data_path = '/content/cs294-158-ssl/data/imagenet100'\n",
        "train_path = os.path.join(data_path, 'train')\n",
        "test_path = os.path.join(data_path, 'test')\n",
        "\n",
        "if not os.path.exists(test_path):\n",
        "    os.makedirs(test_path)\n",
        "\n",
        "class_folders = [f for f in os.listdir(train_path) if os.path.isdir(os.path.join(train_path, f))]\n",
        "\n",
        "num_images_to_move = 125\n",
        "\n",
        "for class_folder in class_folders:\n",
        "    class_folder_path = os.path.join(train_path, class_folder)\n",
        "    images = os.listdir(class_folder_path)\n",
        "\n",
        "    if len(images) < num_images_to_move:\n",
        "        print(f\"Warning: Not enough images in {class_folder}. Only {len(images)} available.\")\n",
        "        continue\n",
        "\n",
        "    images_to_move = sample(images, num_images_to_move)\n",
        "\n",
        "    test_class_folder_path = os.path.join(test_path, class_folder)\n",
        "    if not os.path.exists(test_class_folder_path):\n",
        "        os.makedirs(test_class_folder_path)\n",
        "\n",
        "    for image in images_to_move:\n",
        "        src_path = os.path.join(class_folder_path, image)\n",
        "        dst_path = os.path.join(test_class_folder_path, image)\n",
        "        shutil.move(src_path, dst_path)\n",
        "\n",
        "print(\"Images have been moved from 'train' to 'test'.\")\n"
      ],
      "metadata": {
        "colab": {
          "base_uri": "https://localhost:8080/"
        },
        "id": "1hqyXFy-8xbQ",
        "outputId": "a9b6df91-5caf-441b-a515-baf1c4f3e5d0"
      },
      "execution_count": null,
      "outputs": [
        {
          "output_type": "stream",
          "name": "stdout",
          "text": [
            "Images have been moved from 'train' to 'test'.\n"
          ]
        }
      ]
    },
    {
      "cell_type": "markdown",
      "source": [
        "**Question 3 :** We Redefine the evaluation function to return the test values so we can compare them."
      ],
      "metadata": {
        "id": "HD1LcyAzuadE"
      }
    },
    {
      "cell_type": "code",
      "source": [
        "from deepul_helper.demos import evaluate_classifier\n",
        "def evaluate_accuracy(model, linear_classifier, train_loader, test_loader):\n",
        "    train_acc1, train_acc5 = evaluate_classifier(model, linear_classifier, train_loader)\n",
        "    test_acc1, test_acc5 = evaluate_classifier(model, linear_classifier, test_loader)\n",
        "\n",
        "    print('Train Set')\n",
        "    print(f'Top 1 Accuracy: {train_acc1}, Top 5 Accuracy: {train_acc5}\\n')\n",
        "    print('Test Set')\n",
        "    print(f'Top 1 Accuracy: {test_acc1}, Top 5 Accuracy: {test_acc5}\\n')\n",
        "    return [test_acc1,test_acc5]"
      ],
      "metadata": {
        "id": "7FDW84q-jC7T"
      },
      "execution_count": null,
      "outputs": []
    },
    {
      "cell_type": "code",
      "source": [
        "model, linear_classifier, train_loader, test_loader = load_model_and_data('context_encoder','cifar10')\n",
        "Cifar10Context_encoder_accuracy = evaluate_accuracy(model, linear_classifier, train_loader, test_loader)\n",
        "\n",
        "model, linear_classifier, train_loader, test_loader = load_model_and_data('rotation','cifar10')\n",
        "Cifar10Rotation_accuracy = evaluate_accuracy(model, linear_classifier, train_loader, test_loader)\n",
        "\n",
        "model, linear_classifier, train_loader, test_loader = load_model_and_data('simclr','cifar10')\n",
        "Cifar10SimCLR_accuracy = evaluate_accuracy(model, linear_classifier, train_loader, test_loader)\n",
        "\n",
        "print('Evaluation : done')"
      ],
      "metadata": {
        "colab": {
          "base_uri": "https://localhost:8080/"
        },
        "id": "t-y7zQwFfb3E",
        "outputId": "28129250-8364-45e9-9d28-ba26aec746a6"
      },
      "execution_count": null,
      "outputs": [
        {
          "output_type": "stream",
          "name": "stdout",
          "text": [
            "Files already downloaded and verified\n",
            "Files already downloaded and verified\n"
          ]
        },
        {
          "output_type": "stream",
          "name": "stderr",
          "text": [
            "/usr/local/lib/python3.10/dist-packages/torch/utils/data/dataloader.py:557: UserWarning: This DataLoader will create 4 worker processes in total. Our suggested max number of worker in current system is 2, which is smaller than what this DataLoader is going to create. Please be aware that excessive worker creation might get DataLoader running slow or even freeze, lower the worker number to avoid potential slowness/freeze if necessary.\n",
            "  warnings.warn(_create_warning_msg(\n"
          ]
        },
        {
          "output_type": "stream",
          "name": "stdout",
          "text": [
            "Train Set\n",
            "Top 1 Accuracy: 53.236, Top 5 Accuracy: 94.094\n",
            "\n",
            "Test Set\n",
            "Top 1 Accuracy: 45.77, Top 5 Accuracy: 90.29\n",
            "\n",
            "Files already downloaded and verified\n",
            "Files already downloaded and verified\n",
            "Train Set\n",
            "Top 1 Accuracy: 79.33, Top 5 Accuracy: 99.066\n",
            "\n",
            "Test Set\n",
            "Top 1 Accuracy: 79.91, Top 5 Accuracy: 99.12\n",
            "\n",
            "Files already downloaded and verified\n",
            "Files already downloaded and verified\n",
            "Train Set\n",
            "Top 1 Accuracy: 90.07, Top 5 Accuracy: 99.524\n",
            "\n",
            "Test Set\n",
            "Top 1 Accuracy: 92.84, Top 5 Accuracy: 99.86\n",
            "\n",
            "Evaluation : done\n"
          ]
        }
      ]
    },
    {
      "cell_type": "code",
      "source": [
        "import numpy as np\n",
        "import matplotlib.pyplot as plt\n",
        "\n",
        "plt.figure()\n",
        "\n",
        "labels = ['Context_Encoder', 'RotationPrediction', 'SimCLR']\n",
        "bar_width = 0.25\n",
        "x = np.arange(len(labels))\n",
        "plt.bar(x - bar_width, [Cifar10Context_encoder_accuracy[0], Cifar10Rotation_accuracy[0], Cifar10SimCLR_accuracy[0]], width=bar_width, label='Top 1 accuracy')\n",
        "plt.bar(x, [Cifar10Context_encoder_accuracy[1], Cifar10Rotation_accuracy[1], Cifar10SimCLR_accuracy[1]], width=bar_width, label='top 5 accuracy')\n",
        "plt.xticks(x, labels)\n",
        "plt.legend()\n",
        "plt.xlabel('Task')\n",
        "plt.ylabel('Accuracy %')\n",
        "plt.title('Cifar10 - Comparison between the 3 demos\\' accuracies')\n",
        "\n",
        "plt.show()"
      ],
      "metadata": {
        "colab": {
          "base_uri": "https://localhost:8080/",
          "height": 472
        },
        "id": "3sgLz045sbE9",
        "outputId": "8864e856-6211-455b-f741-1318d6654d4d"
      },
      "execution_count": null,
      "outputs": [
        {
          "output_type": "display_data",
          "data": {
            "text/plain": [
              "<Figure size 640x480 with 1 Axes>"
            ],
            "image/png": "[encoded data removed]"
          },
          "metadata": {}
        }
      ]
    },
    {
      "cell_type": "markdown",
      "source": [
        "**Question 4 :** We Train the same models on imagenet10 before comparing them\n",
        "\n",
        "1 - Context_Encoder"
      ],
      "metadata": {
        "id": "xffDmF7swOBu"
      }
    },
    {
      "cell_type": "code",
      "source": [
        "! CUDA_VISIBLE_DEVICES=0 python train_self_supervised_task.py -d imagenet100 -t context_encoder -b 96 -e 10 --lr 1e-3 --o adam"
      ],
      "metadata": {
        "colab": {
          "base_uri": "https://localhost:8080/"
        },
        "id": "K4E0-Z-sv4sk",
        "outputId": "31d5076e-3ca9-4821-d701-a5b4f0d1ded5"
      },
      "execution_count": null,
      "outputs": [
        {
          "output_type": "stream",
          "name": "stdout",
          "text": [
            "Starting process on GPU: 0\n",
            "/usr/local/lib/python3.10/dist-packages/torch/utils/data/dataloader.py:557: UserWarning: This DataLoader will create 16 worker processes in total. Our suggested max number of worker in current system is 2, which is smaller than what this DataLoader is going to create. Please be aware that excessive worker creation might get DataLoader running slow or even freeze, lower the worker number to avoid potential slowness/freeze if necessary.\n",
            "  warnings.warn(_create_warning_msg(\n",
            "[W reducer.cpp:1346] Warning: find_unused_parameters=True was specified in DDP constructor, but did not find any unused parameters in the forward pass. This flag results in an extra traversal of the autograd graph every iteration,  which can adversely affect performance. If your model indeed never has any unused parameters in the forward pass, consider turning this flag off. Note that this warning may be a false positive if your model has flow control causing later iterations to have unused parameters. (function operator())\n",
            "Epoch: [0][  0/122]\tTime 81.878 (81.878)\tData 51.905 (51.905)\tLinearAcc@1   7.29 (  7.29)\tLinearAcc@5  52.08 ( 52.08)\tLoss 1.6700e+00 (1.6700e+00)\n",
            "Epoch: [0][ 10/122]\tTime  0.163 ( 7.583)\tData  0.002 ( 4.719)\tLinearAcc@1   8.33 (  9.85)\tLinearAcc@5  56.25 ( 52.65)\tLoss 1.1100e+00 (1.1827e+00)\n",
            "Epoch: [0][ 20/122]\tTime  0.143 ( 4.056)\tData  0.000 ( 2.477)\tLinearAcc@1  16.67 ( 11.66)\tLinearAcc@5  55.21 ( 53.82)\tLoss 1.0226e+00 (1.0935e+00)\n",
            "Epoch: [0][ 30/122]\tTime  0.180 ( 2.802)\tData  0.000 ( 1.680)\tLinearAcc@1  13.54 ( 12.50)\tLinearAcc@5  57.29 ( 54.94)\tLoss 7.8066e-01 (1.0056e+00)\n",
            "Epoch: [0][ 40/122]\tTime  0.250 ( 2.346)\tData  0.000 ( 1.445)\tLinearAcc@1  12.50 ( 12.53)\tLinearAcc@5  50.00 ( 55.08)\tLoss 7.1182e-01 (9.3413e-01)\n",
            "Epoch: [0][ 50/122]\tTime  2.261 ( 2.019)\tData  2.107 ( 1.260)\tLinearAcc@1  11.46 ( 12.91)\tLinearAcc@5  59.37 ( 55.41)\tLoss 6.4054e-01 (8.8426e-01)\n",
            "Epoch: [0][ 60/122]\tTime  0.227 ( 1.790)\tData  0.005 ( 1.125)\tLinearAcc@1  14.58 ( 12.86)\tLinearAcc@5  61.46 ( 55.62)\tLoss 6.2500e-01 (8.4058e-01)\n",
            "Epoch: [0][ 70/122]\tTime  0.157 ( 1.683)\tData  0.000 ( 1.085)\tLinearAcc@1   8.33 ( 12.78)\tLinearAcc@5  54.17 ( 55.66)\tLoss 6.3875e-01 (8.0983e-01)\n",
            "Epoch: [0][ 80/122]\tTime  0.207 ( 1.542)\tData  0.000 ( 0.999)\tLinearAcc@1  11.46 ( 12.67)\tLinearAcc@5  53.12 ( 55.65)\tLoss 5.8838e-01 (7.7932e-01)\n",
            "Epoch: [0][ 90/122]\tTime  2.736 ( 1.508)\tData  2.596 ( 1.003)\tLinearAcc@1  11.46 ( 12.87)\tLinearAcc@5  59.37 ( 55.88)\tLoss 6.8514e-01 (7.6010e-01)\n",
            "Epoch: [0][100/122]\tTime  0.227 ( 1.421)\tData  0.000 ( 0.950)\tLinearAcc@1   7.29 ( 12.71)\tLinearAcc@5  59.37 ( 55.63)\tLoss 5.5493e-01 (7.3992e-01)\n",
            "Epoch: [0][110/122]\tTime  0.144 ( 1.344)\tData  0.000 ( 0.901)\tLinearAcc@1  14.58 ( 12.66)\tLinearAcc@5  56.25 ( 55.42)\tLoss 5.4963e-01 (7.2478e-01)\n",
            "Epoch: [0][120/122]\tTime  0.160 ( 1.259)\tData  0.000 ( 0.841)\tLinearAcc@1  11.46 ( 12.80)\tLinearAcc@5  57.29 ( 55.68)\tLoss 6.3228e-01 (7.1280e-01)\n",
            "Test: [0/5]\tTime 44.862 (44.862)\tData  0.000 ( 0.000)\tLinearAcc@1   9.38 (  9.38)\tLinearAcc@5  56.25 ( 56.25)\tLoss 8.4634e-01 (8.4634e-01)\n",
            " * LinearAcc@1 13.125 LinearAcc@5 53.125 Loss 0.864\n",
            "Epoch: [1][  0/122]\tTime 62.496 (62.496)\tData 62.314 (62.314)\tLinearAcc@1  14.58 ( 14.58)\tLinearAcc@5  60.42 ( 60.42)\tLoss 6.2920e-01 (6.2920e-01)\n",
            "Epoch: [1][ 10/122]\tTime  0.258 ( 5.949)\tData  0.000 ( 5.702)\tLinearAcc@1  13.54 ( 13.26)\tLinearAcc@5  56.25 ( 54.73)\tLoss 5.6453e-01 (5.8493e-01)\n",
            "Epoch: [1][ 20/122]\tTime  0.172 ( 3.547)\tData  0.000 ( 3.327)\tLinearAcc@1  15.62 ( 13.49)\tLinearAcc@5  56.25 ( 54.61)\tLoss 5.4181e-01 (5.7392e-01)\n",
            "Epoch: [1][ 30/122]\tTime  0.260 ( 2.517)\tData  0.000 ( 2.301)\tLinearAcc@1  11.46 ( 13.74)\tLinearAcc@5  51.04 ( 54.77)\tLoss 5.7668e-01 (5.7460e-01)\n",
            "Epoch: [1][ 40/122]\tTime  0.159 ( 2.188)\tData  0.003 ( 1.982)\tLinearAcc@1  12.50 ( 13.80)\tLinearAcc@5  57.29 ( 54.85)\tLoss 5.5804e-01 (5.7015e-01)\n",
            "Epoch: [1][ 50/122]\tTime  1.712 ( 1.955)\tData  1.556 ( 1.757)\tLinearAcc@1  10.42 ( 13.24)\tLinearAcc@5  55.21 ( 54.96)\tLoss 6.0129e-01 (5.6642e-01)\n",
            "Epoch: [1][ 60/122]\tTime  0.162 ( 1.724)\tData  0.001 ( 1.530)\tLinearAcc@1  12.50 ( 13.22)\tLinearAcc@5  61.46 ( 54.92)\tLoss 5.2537e-01 (5.6829e-01)\n",
            "Epoch: [1][ 70/122]\tTime  0.246 ( 1.602)\tData  0.000 ( 1.410)\tLinearAcc@1   9.38 ( 12.97)\tLinearAcc@5  53.12 ( 54.50)\tLoss 5.6796e-01 (5.6674e-01)\n",
            "Epoch: [1][ 80/122]\tTime  4.174 ( 1.503)\tData  4.019 ( 1.306)\tLinearAcc@1   9.38 ( 12.78)\tLinearAcc@5  51.04 ( 54.69)\tLoss 6.2608e-01 (5.6824e-01)\n",
            "Epoch: [1][ 90/122]\tTime  0.170 ( 1.394)\tData  0.000 ( 1.201)\tLinearAcc@1  14.58 ( 12.74)\tLinearAcc@5  60.42 ( 54.90)\tLoss 5.6749e-01 (5.6491e-01)\n",
            "Epoch: [1][100/122]\tTime  1.446 ( 1.363)\tData  1.364 ( 1.171)\tLinearAcc@1  15.62 ( 12.72)\tLinearAcc@5  55.21 ( 54.78)\tLoss 5.8533e-01 (5.6374e-01)\n",
            "Epoch: [1][110/122]\tTime  0.178 ( 1.255)\tData  0.000 ( 1.066)\tLinearAcc@1  10.42 ( 12.94)\tLinearAcc@5  46.88 ( 54.95)\tLoss 5.3832e-01 (5.6328e-01)\n",
            "Epoch: [1][120/122]\tTime  0.163 ( 1.187)\tData  0.000 ( 1.003)\tLinearAcc@1  11.46 ( 13.08)\tLinearAcc@5  54.17 ( 55.05)\tLoss 5.2946e-01 (5.6087e-01)\n",
            "Test: [0/5]\tTime 41.307 (41.307)\tData  0.000 ( 0.000)\tLinearAcc@1  14.58 ( 14.58)\tLinearAcc@5  40.62 ( 40.62)\tLoss 5.8132e-01 (5.8132e-01)\n",
            " * LinearAcc@1 15.417 LinearAcc@5 52.708 Loss 0.594\n",
            "Epoch: [2][  0/122]\tTime 59.405 (59.405)\tData 59.247 (59.247)\tLinearAcc@1  12.50 ( 12.50)\tLinearAcc@5  50.00 ( 50.00)\tLoss 5.0043e-01 (5.0043e-01)\n",
            "Epoch: [2][ 10/122]\tTime  0.150 ( 5.561)\tData  0.009 ( 5.402)\tLinearAcc@1  13.54 ( 12.50)\tLinearAcc@5  57.29 ( 52.75)\tLoss 5.0597e-01 (5.4610e-01)\n",
            "Epoch: [2][ 20/122]\tTime  0.205 ( 3.364)\tData  0.000 ( 3.194)\tLinearAcc@1  13.54 ( 12.60)\tLinearAcc@5  54.17 ( 53.82)\tLoss 5.9020e-01 (5.4874e-01)\n",
            "Epoch: [2][ 30/122]\tTime  0.255 ( 2.354)\tData  0.000 ( 2.169)\tLinearAcc@1  15.62 ( 12.50)\tLinearAcc@5  59.37 ( 53.56)\tLoss 5.5576e-01 (5.4985e-01)\n",
            "Epoch: [2][ 40/122]\tTime  0.241 ( 2.048)\tData  0.000 ( 1.861)\tLinearAcc@1  14.58 ( 13.01)\tLinearAcc@5  57.29 ( 54.47)\tLoss 6.0620e-01 (5.4929e-01)\n",
            "Epoch: [2][ 50/122]\tTime  0.163 ( 1.856)\tData  0.003 ( 1.666)\tLinearAcc@1  14.58 ( 13.30)\tLinearAcc@5  62.50 ( 54.64)\tLoss 5.5918e-01 (5.4480e-01)\n",
            "Epoch: [2][ 60/122]\tTime  0.137 ( 1.580)\tData  0.011 ( 1.395)\tLinearAcc@1  21.88 ( 13.34)\tLinearAcc@5  60.42 ( 54.88)\tLoss 5.7254e-01 (5.4797e-01)\n",
            "Epoch: [2][ 70/122]\tTime  0.236 ( 1.496)\tData  0.000 ( 1.308)\tLinearAcc@1  11.46 ( 13.28)\tLinearAcc@5  53.12 ( 54.83)\tLoss 5.2222e-01 (5.4724e-01)\n",
            "Epoch: [2][ 80/122]\tTime  6.848 ( 1.448)\tData  6.690 ( 1.261)\tLinearAcc@1  12.50 ( 13.17)\tLinearAcc@5  56.25 ( 55.04)\tLoss 5.5931e-01 (5.4643e-01)\n",
            "Epoch: [2][ 90/122]\tTime  0.251 ( 1.312)\tData  0.000 ( 1.123)\tLinearAcc@1  14.58 ( 13.21)\tLinearAcc@5  56.25 ( 55.06)\tLoss 5.3568e-01 (5.4563e-01)\n",
            "Epoch: [2][100/122]\tTime  0.181 ( 1.293)\tData  0.000 ( 1.103)\tLinearAcc@1  11.46 ( 13.30)\tLinearAcc@5  60.42 ( 55.26)\tLoss 5.0834e-01 (5.4618e-01)\n",
            "Epoch: [2][110/122]\tTime  0.186 ( 1.192)\tData  0.000 ( 1.005)\tLinearAcc@1   7.29 ( 13.42)\tLinearAcc@5  57.29 ( 55.46)\tLoss 4.7710e-01 (5.4671e-01)\n",
            "Epoch: [2][120/122]\tTime  0.168 ( 1.114)\tData  0.000 ( 0.930)\tLinearAcc@1  15.62 ( 13.40)\tLinearAcc@5  66.67 ( 55.61)\tLoss 5.5007e-01 (5.4666e-01)\n",
            "Test: [0/5]\tTime 40.788 (40.788)\tData  0.000 ( 0.000)\tLinearAcc@1  13.54 ( 13.54)\tLinearAcc@5  57.29 ( 57.29)\tLoss 5.3365e-01 (5.3365e-01)\n",
            " * LinearAcc@1 16.667 LinearAcc@5 57.292 Loss 0.554\n",
            "Epoch: [3][  0/122]\tTime 55.345 (55.345)\tData 55.103 (55.103)\tLinearAcc@1  12.50 ( 12.50)\tLinearAcc@5  53.12 ( 53.12)\tLoss 5.4677e-01 (5.4677e-01)\n",
            "Epoch: [3][ 10/122]\tTime  0.148 ( 5.213)\tData  0.004 ( 5.020)\tLinearAcc@1  14.58 ( 14.11)\tLinearAcc@5  52.08 ( 57.86)\tLoss 5.3845e-01 (5.3727e-01)\n",
            "Epoch: [3][ 20/122]\tTime  0.311 ( 3.251)\tData  0.000 ( 3.050)\tLinearAcc@1  13.54 ( 12.90)\tLinearAcc@5  60.42 ( 56.00)\tLoss 4.9943e-01 (5.3315e-01)\n",
            "Epoch: [3][ 30/122]\tTime  0.225 ( 2.360)\tData  0.000 ( 2.151)\tLinearAcc@1  10.42 ( 12.00)\tLinearAcc@5  56.25 ( 56.35)\tLoss 5.2233e-01 (5.4425e-01)\n",
            "Epoch: [3][ 40/122]\tTime  0.176 ( 1.985)\tData  0.000 ( 1.785)\tLinearAcc@1  13.54 ( 12.65)\tLinearAcc@5  57.29 ( 56.81)\tLoss 5.0354e-01 (5.3956e-01)\n",
            "Epoch: [3][ 50/122]\tTime  0.333 ( 1.808)\tData  0.243 ( 1.615)\tLinearAcc@1  15.62 ( 12.93)\tLinearAcc@5  55.21 ( 56.62)\tLoss 5.1117e-01 (5.3741e-01)\n",
            "Epoch: [3][ 60/122]\tTime  0.187 ( 1.540)\tData  0.015 ( 1.352)\tLinearAcc@1  14.58 ( 13.11)\tLinearAcc@5  65.62 ( 56.42)\tLoss 5.0397e-01 (5.3731e-01)\n",
            "Epoch: [3][ 70/122]\tTime  0.260 ( 1.489)\tData  0.000 ( 1.300)\tLinearAcc@1  11.46 ( 13.38)\tLinearAcc@5  57.29 ( 56.51)\tLoss 5.5589e-01 (5.3869e-01)\n",
            "Epoch: [3][ 80/122]\tTime  7.769 ( 1.437)\tData  7.615 ( 1.244)\tLinearAcc@1  22.92 ( 13.46)\tLinearAcc@5  58.33 ( 56.47)\tLoss 5.7931e-01 (5.4037e-01)\n",
            "Epoch: [3][ 90/122]\tTime  0.161 ( 1.299)\tData  0.000 ( 1.110)\tLinearAcc@1   9.38 ( 13.70)\tLinearAcc@5  55.21 ( 56.49)\tLoss 5.3335e-01 (5.4073e-01)\n",
            "Epoch: [3][100/122]\tTime  0.170 ( 1.280)\tData  0.000 ( 1.090)\tLinearAcc@1  14.58 ( 13.82)\tLinearAcc@5  61.46 ( 56.48)\tLoss 5.7404e-01 (5.4168e-01)\n",
            "Epoch: [3][110/122]\tTime  0.150 ( 1.181)\tData  0.000 ( 0.993)\tLinearAcc@1  15.62 ( 13.90)\tLinearAcc@5  58.33 ( 56.62)\tLoss 4.7614e-01 (5.3641e-01)\n",
            "Epoch: [3][120/122]\tTime  0.163 ( 1.111)\tData  0.000 ( 0.927)\tLinearAcc@1  10.42 ( 14.17)\tLinearAcc@5  60.42 ( 56.98)\tLoss 5.2206e-01 (5.3402e-01)\n",
            "Test: [0/5]\tTime 41.039 (41.039)\tData  0.000 ( 0.000)\tLinearAcc@1  21.88 ( 21.88)\tLinearAcc@5  63.54 ( 63.54)\tLoss 5.9842e-01 (5.9842e-01)\n",
            " * LinearAcc@1 20.000 LinearAcc@5 65.208 Loss 0.596\n",
            "Epoch: [4][  0/122]\tTime 53.939 (53.939)\tData 53.794 (53.794)\tLinearAcc@1  22.92 ( 22.92)\tLinearAcc@5  66.67 ( 66.67)\tLoss 4.2228e-01 (4.2228e-01)\n",
            "Epoch: [4][ 10/122]\tTime  0.280 ( 5.113)\tData  0.044 ( 4.909)\tLinearAcc@1  13.54 ( 17.23)\tLinearAcc@5  56.25 ( 58.52)\tLoss 4.9809e-01 (4.5627e-01)\n",
            "Epoch: [4][ 20/122]\tTime  0.167 ( 3.291)\tData  0.007 ( 3.086)\tLinearAcc@1  13.54 ( 16.87)\tLinearAcc@5  55.21 ( 59.92)\tLoss 4.9808e-01 (4.6594e-01)\n",
            "Epoch: [4][ 30/122]\tTime  0.174 ( 2.284)\tData  0.006 ( 2.094)\tLinearAcc@1  14.58 ( 17.04)\tLinearAcc@5  56.25 ( 60.11)\tLoss 5.0116e-01 (4.6872e-01)\n",
            "Epoch: [4][ 40/122]\tTime  0.198 ( 2.050)\tData  0.000 ( 1.867)\tLinearAcc@1  15.62 ( 16.67)\tLinearAcc@5  60.42 ( 60.26)\tLoss 4.1828e-01 (4.7499e-01)\n",
            "Epoch: [4][ 50/122]\tTime  0.186 ( 1.837)\tData  0.004 ( 1.655)\tLinearAcc@1  18.75 ( 16.52)\tLinearAcc@5  66.67 ( 60.64)\tLoss 5.0092e-01 (4.7897e-01)\n",
            "Epoch: [4][ 60/122]\tTime  0.152 ( 1.623)\tData  0.002 ( 1.440)\tLinearAcc@1  27.08 ( 16.50)\tLinearAcc@5  67.71 ( 60.28)\tLoss 4.8184e-01 (4.7761e-01)\n",
            "Epoch: [4][ 70/122]\tTime  2.192 ( 1.513)\tData  1.961 ( 1.330)\tLinearAcc@1  13.54 ( 16.42)\tLinearAcc@5  56.25 ( 60.15)\tLoss 4.7035e-01 (4.7749e-01)\n",
            "Epoch: [4][ 80/122]\tTime  7.440 ( 1.447)\tData  7.288 ( 1.257)\tLinearAcc@1   9.38 ( 16.08)\tLinearAcc@5  58.33 ( 59.90)\tLoss 5.4145e-01 (4.8135e-01)\n",
            "Epoch: [4][ 90/122]\tTime  0.163 ( 1.322)\tData  0.000 ( 1.134)\tLinearAcc@1  14.58 ( 16.28)\tLinearAcc@5  61.46 ( 60.10)\tLoss 5.5511e-01 (4.8212e-01)\n",
            "Epoch: [4][100/122]\tTime  0.200 ( 1.275)\tData  0.000 ( 1.089)\tLinearAcc@1  15.62 ( 16.08)\tLinearAcc@5  55.21 ( 59.92)\tLoss 5.0727e-01 (4.8134e-01)\n",
            "Epoch: [4][110/122]\tTime  0.151 ( 1.179)\tData  0.000 ( 0.995)\tLinearAcc@1  19.79 ( 16.15)\tLinearAcc@5  59.37 ( 60.12)\tLoss 4.3740e-01 (4.8090e-01)\n",
            "Epoch: [4][120/122]\tTime  0.162 ( 1.122)\tData  0.000 ( 0.940)\tLinearAcc@1  27.08 ( 16.14)\tLinearAcc@5  68.75 ( 60.38)\tLoss 4.7536e-01 (4.7983e-01)\n",
            "Test: [0/5]\tTime 42.882 (42.882)\tData  0.000 ( 0.000)\tLinearAcc@1  21.88 ( 21.88)\tLinearAcc@5  65.62 ( 65.62)\tLoss 4.5827e-01 (4.5827e-01)\n",
            " * LinearAcc@1 18.750 LinearAcc@5 63.125 Loss 0.492\n",
            "Epoch: [5][  0/122]\tTime 54.706 (54.706)\tData 54.541 (54.541)\tLinearAcc@1  16.67 ( 16.67)\tLinearAcc@5  65.62 ( 65.62)\tLoss 4.9814e-01 (4.9814e-01)\n",
            "Epoch: [5][ 10/122]\tTime  0.172 ( 5.205)\tData  0.002 ( 4.975)\tLinearAcc@1  17.71 ( 18.47)\tLinearAcc@5  61.46 ( 62.59)\tLoss 3.9680e-01 (4.7542e-01)\n",
            "Epoch: [5][ 20/122]\tTime  0.162 ( 3.244)\tData  0.000 ( 3.029)\tLinearAcc@1  16.67 ( 18.30)\tLinearAcc@5  53.12 ( 62.15)\tLoss 4.8483e-01 (4.7648e-01)\n",
            "Epoch: [5][ 30/122]\tTime  0.170 ( 2.256)\tData  0.008 ( 2.056)\tLinearAcc@1  12.50 ( 17.51)\tLinearAcc@5  58.33 ( 62.30)\tLoss 5.0646e-01 (4.7547e-01)\n",
            "Epoch: [5][ 40/122]\tTime  0.162 ( 1.991)\tData  0.007 ( 1.802)\tLinearAcc@1  15.62 ( 17.48)\tLinearAcc@5  60.42 ( 62.04)\tLoss 4.8260e-01 (4.7074e-01)\n",
            "Epoch: [5][ 50/122]\tTime  1.462 ( 1.824)\tData  1.306 ( 1.641)\tLinearAcc@1  18.75 ( 17.54)\tLinearAcc@5  63.54 ( 62.36)\tLoss 4.4440e-01 (4.7064e-01)\n",
            "Epoch: [5][ 60/122]\tTime  0.206 ( 1.575)\tData  0.010 ( 1.386)\tLinearAcc@1  14.58 ( 17.45)\tLinearAcc@5  62.50 ( 62.23)\tLoss 4.6526e-01 (4.6967e-01)\n",
            "Epoch: [5][ 70/122]\tTime  0.160 ( 1.501)\tData  0.000 ( 1.314)\tLinearAcc@1  22.92 ( 17.44)\tLinearAcc@5  60.42 ( 62.38)\tLoss 4.6443e-01 (4.6893e-01)\n",
            "Epoch: [5][ 80/122]\tTime  5.964 ( 1.412)\tData  5.728 ( 1.224)\tLinearAcc@1  13.54 ( 17.54)\tLinearAcc@5  60.42 ( 62.55)\tLoss 4.2160e-01 (4.6851e-01)\n",
            "Epoch: [5][ 90/122]\tTime  0.187 ( 1.326)\tData  0.000 ( 1.140)\tLinearAcc@1  17.71 ( 17.49)\tLinearAcc@5  67.71 ( 62.60)\tLoss 4.6787e-01 (4.6888e-01)\n",
            "Epoch: [5][100/122]\tTime  0.176 ( 1.291)\tData  0.000 ( 1.107)\tLinearAcc@1  21.88 ( 17.49)\tLinearAcc@5  64.58 ( 62.57)\tLoss 4.7072e-01 (4.6631e-01)\n",
            "Epoch: [5][110/122]\tTime  0.176 ( 1.201)\tData  0.000 ( 1.019)\tLinearAcc@1  13.54 ( 17.60)\tLinearAcc@5  64.58 ( 62.73)\tLoss 5.0168e-01 (4.6579e-01)\n",
            "Epoch: [5][120/122]\tTime  0.164 ( 1.132)\tData  0.000 ( 0.953)\tLinearAcc@1  16.67 ( 17.62)\tLinearAcc@5  57.29 ( 62.58)\tLoss 4.0909e-01 (4.6445e-01)\n",
            "Test: [0/5]\tTime 43.103 (43.103)\tData  0.000 ( 0.000)\tLinearAcc@1  12.50 ( 12.50)\tLinearAcc@5  59.37 ( 59.37)\tLoss 5.1266e-01 (5.1266e-01)\n",
            " * LinearAcc@1 15.833 LinearAcc@5 61.667 Loss 0.489\n",
            "Epoch: [6][  0/122]\tTime 52.825 (52.825)\tData 52.616 (52.616)\tLinearAcc@1  14.58 ( 14.58)\tLinearAcc@5  66.67 ( 66.67)\tLoss 4.9364e-01 (4.9364e-01)\n",
            "Epoch: [6][ 10/122]\tTime  0.179 ( 5.443)\tData  0.040 ( 5.272)\tLinearAcc@1  17.71 ( 17.14)\tLinearAcc@5  56.25 ( 63.83)\tLoss 4.7542e-01 (4.6527e-01)\n",
            "Epoch: [6][ 20/122]\tTime  0.190 ( 3.397)\tData  0.004 ( 3.222)\tLinearAcc@1  13.54 ( 17.81)\tLinearAcc@5  55.21 ( 64.73)\tLoss 4.9466e-01 (4.5939e-01)\n",
            "Epoch: [6][ 30/122]\tTime  0.242 ( 2.376)\tData  0.000 ( 2.184)\tLinearAcc@1  18.75 ( 19.19)\tLinearAcc@5  57.29 ( 64.52)\tLoss 4.8994e-01 (4.5429e-01)\n",
            "Epoch: [6][ 40/122]\tTime  0.168 ( 2.011)\tData  0.006 ( 1.826)\tLinearAcc@1  22.92 ( 19.16)\tLinearAcc@5  61.46 ( 65.07)\tLoss 4.0939e-01 (4.5713e-01)\n",
            "Epoch: [6][ 50/122]\tTime  2.135 ( 1.861)\tData  1.962 ( 1.680)\tLinearAcc@1  13.54 ( 18.69)\tLinearAcc@5  62.50 ( 64.79)\tLoss 4.4471e-01 (4.5699e-01)\n",
            "Epoch: [6][ 60/122]\tTime  0.177 ( 1.585)\tData  0.008 ( 1.408)\tLinearAcc@1  19.79 ( 18.43)\tLinearAcc@5  66.67 ( 64.46)\tLoss 5.1325e-01 (4.5544e-01)\n",
            "Epoch: [6][ 70/122]\tTime  0.218 ( 1.514)\tData  0.017 ( 1.334)\tLinearAcc@1  19.79 ( 18.53)\tLinearAcc@5  63.54 ( 64.98)\tLoss 4.8358e-01 (4.5245e-01)\n",
            "Epoch: [6][ 80/122]\tTime  2.548 ( 1.391)\tData  2.381 ( 1.210)\tLinearAcc@1  14.58 ( 18.26)\tLinearAcc@5  58.33 ( 64.53)\tLoss 3.8614e-01 (4.5163e-01)\n",
            "Epoch: [6][ 90/122]\tTime  0.233 ( 1.312)\tData  0.000 ( 1.134)\tLinearAcc@1  19.79 ( 18.43)\tLinearAcc@5  64.58 ( 64.46)\tLoss 4.6025e-01 (4.5047e-01)\n",
            "Epoch: [6][100/122]\tTime  0.140 ( 1.278)\tData  0.000 ( 1.101)\tLinearAcc@1  14.58 ( 18.52)\tLinearAcc@5  64.58 ( 64.80)\tLoss 4.5240e-01 (4.5044e-01)\n",
            "Epoch: [6][110/122]\tTime  0.141 ( 1.180)\tData  0.000 ( 1.006)\tLinearAcc@1  22.92 ( 18.43)\tLinearAcc@5  67.71 ( 64.73)\tLoss 4.9521e-01 (4.5321e-01)\n",
            "Epoch: [6][120/122]\tTime  0.168 ( 1.120)\tData  0.000 ( 0.949)\tLinearAcc@1  19.79 ( 18.41)\tLinearAcc@5  67.71 ( 64.94)\tLoss 4.5671e-01 (4.5374e-01)\n",
            "Test: [0/5]\tTime 41.701 (41.701)\tData  0.000 ( 0.000)\tLinearAcc@1  16.67 ( 16.67)\tLinearAcc@5  68.75 ( 68.75)\tLoss 5.0146e-01 (5.0146e-01)\n",
            " * LinearAcc@1 19.167 LinearAcc@5 70.000 Loss 0.463\n",
            "Epoch: [7][  0/122]\tTime 55.045 (55.045)\tData 54.891 (54.891)\tLinearAcc@1  14.58 ( 14.58)\tLinearAcc@5  64.58 ( 64.58)\tLoss 4.2719e-01 (4.2719e-01)\n",
            "Epoch: [7][ 10/122]\tTime  0.167 ( 5.425)\tData  0.000 ( 5.257)\tLinearAcc@1  18.75 ( 18.94)\tLinearAcc@5  64.58 ( 65.81)\tLoss 4.3366e-01 (4.4591e-01)\n",
            "Epoch: [7][ 20/122]\tTime  0.182 ( 3.377)\tData  0.000 ( 3.206)\tLinearAcc@1  15.62 ( 18.80)\tLinearAcc@5  66.67 ( 66.57)\tLoss 4.3783e-01 (4.4050e-01)\n",
            "Epoch: [7][ 30/122]\tTime  0.196 ( 2.347)\tData  0.000 ( 2.180)\tLinearAcc@1  17.71 ( 18.92)\tLinearAcc@5  72.92 ( 66.43)\tLoss 4.6235e-01 (4.4128e-01)\n",
            "Epoch: [7][ 40/122]\tTime  0.221 ( 2.057)\tData  0.009 ( 1.875)\tLinearAcc@1  21.88 ( 19.21)\tLinearAcc@5  70.83 ( 67.20)\tLoss 4.2668e-01 (4.3517e-01)\n",
            "Epoch: [7][ 50/122]\tTime  0.209 ( 1.839)\tData  0.008 ( 1.646)\tLinearAcc@1  17.71 ( 19.18)\tLinearAcc@5  69.79 ( 67.44)\tLoss 5.6739e-01 (4.3804e-01)\n",
            "Epoch: [7][ 60/122]\tTime  1.027 ( 1.592)\tData  0.921 ( 1.406)\tLinearAcc@1  22.92 ( 19.57)\tLinearAcc@5  68.75 ( 67.20)\tLoss 4.1154e-01 (4.3768e-01)\n",
            "Epoch: [7][ 70/122]\tTime  0.184 ( 1.509)\tData  0.000 ( 1.326)\tLinearAcc@1  15.62 ( 19.81)\tLinearAcc@5  63.54 ( 67.72)\tLoss 4.2257e-01 (4.3643e-01)\n",
            "Epoch: [7][ 80/122]\tTime  1.169 ( 1.380)\tData  1.066 ( 1.201)\tLinearAcc@1  12.50 ( 19.74)\tLinearAcc@5  64.58 ( 67.98)\tLoss 4.0973e-01 (4.3669e-01)\n",
            "Epoch: [7][ 90/122]\tTime  0.239 ( 1.322)\tData  0.000 ( 1.137)\tLinearAcc@1  20.83 ( 20.07)\tLinearAcc@5  60.42 ( 68.25)\tLoss 4.2908e-01 (4.3514e-01)\n",
            "Epoch: [7][100/122]\tTime  0.157 ( 1.281)\tData  0.000 ( 1.095)\tLinearAcc@1  20.83 ( 20.03)\tLinearAcc@5  66.67 ( 68.15)\tLoss 4.2904e-01 (4.3463e-01)\n",
            "Epoch: [7][110/122]\tTime  0.175 ( 1.181)\tData  0.000 ( 0.998)\tLinearAcc@1  26.04 ( 20.53)\tLinearAcc@5  72.92 ( 68.46)\tLoss 4.0936e-01 (4.3388e-01)\n",
            "Epoch: [7][120/122]\tTime  0.166 ( 1.120)\tData  0.000 ( 0.940)\tLinearAcc@1  21.88 ( 20.69)\tLinearAcc@5  73.96 ( 68.70)\tLoss 4.2322e-01 (4.3223e-01)\n",
            "Test: [0/5]\tTime 42.056 (42.056)\tData  0.000 ( 0.000)\tLinearAcc@1  27.08 ( 27.08)\tLinearAcc@5  75.00 ( 75.00)\tLoss 4.7652e-01 (4.7652e-01)\n",
            " * LinearAcc@1 22.708 LinearAcc@5 69.375 Loss 0.455\n",
            "Epoch: [8][  0/122]\tTime 53.770 (53.770)\tData 53.606 (53.606)\tLinearAcc@1  23.96 ( 23.96)\tLinearAcc@5  71.88 ( 71.88)\tLoss 4.3776e-01 (4.3776e-01)\n",
            "Epoch: [8][ 10/122]\tTime  0.163 ( 5.156)\tData  0.004 ( 4.988)\tLinearAcc@1  32.29 ( 23.30)\tLinearAcc@5  75.00 ( 70.64)\tLoss 4.7476e-01 (4.1627e-01)\n",
            "Epoch: [8][ 20/122]\tTime  0.178 ( 3.290)\tData  0.008 ( 3.119)\tLinearAcc@1  18.75 ( 23.81)\tLinearAcc@5  66.67 ( 71.63)\tLoss 3.8627e-01 (4.1646e-01)\n",
            "Epoch: [8][ 30/122]\tTime  0.215 ( 2.290)\tData  0.005 ( 2.118)\tLinearAcc@1  21.88 ( 24.06)\tLinearAcc@5  65.62 ( 71.24)\tLoss 4.5300e-01 (4.1420e-01)\n",
            "Epoch: [8][ 40/122]\tTime  0.266 ( 1.986)\tData  0.000 ( 1.804)\tLinearAcc@1  19.79 ( 24.29)\tLinearAcc@5  75.00 ( 71.06)\tLoss 3.7970e-01 (4.1650e-01)\n",
            "Epoch: [8][ 50/122]\tTime  0.168 ( 1.765)\tData  0.004 ( 1.578)\tLinearAcc@1  26.04 ( 24.06)\tLinearAcc@5  76.04 ( 70.96)\tLoss 4.1983e-01 (4.1434e-01)\n",
            "Epoch: [8][ 60/122]\tTime  0.216 ( 1.541)\tData  0.005 ( 1.357)\tLinearAcc@1  20.83 ( 24.20)\tLinearAcc@5  68.75 ( 71.40)\tLoss 3.8035e-01 (4.1418e-01)\n",
            "Epoch: [8][ 70/122]\tTime  0.171 ( 1.481)\tData  0.000 ( 1.298)\tLinearAcc@1  20.83 ( 24.13)\tLinearAcc@5  71.88 ( 71.26)\tLoss 4.1840e-01 (4.1728e-01)\n",
            "Epoch: [8][ 80/122]\tTime  4.341 ( 1.371)\tData  4.189 ( 1.191)\tLinearAcc@1  17.71 ( 23.83)\tLinearAcc@5  68.75 ( 71.01)\tLoss 3.9422e-01 (4.1801e-01)\n",
            "Epoch: [8][ 90/122]\tTime  0.232 ( 1.322)\tData  0.000 ( 1.141)\tLinearAcc@1  28.12 ( 23.63)\tLinearAcc@5  68.75 ( 71.09)\tLoss 3.4911e-01 (4.1618e-01)\n",
            "Epoch: [8][100/122]\tTime  4.780 ( 1.300)\tData  4.552 ( 1.120)\tLinearAcc@1  26.04 ( 23.69)\tLinearAcc@5  65.62 ( 71.10)\tLoss 4.3856e-01 (4.1669e-01)\n",
            "Epoch: [8][110/122]\tTime  0.159 ( 1.226)\tData  0.000 ( 1.045)\tLinearAcc@1  25.00 ( 23.86)\tLinearAcc@5  65.62 ( 71.16)\tLoss 3.6067e-01 (4.1532e-01)\n",
            "Epoch: [8][120/122]\tTime  0.174 ( 1.155)\tData  0.000 ( 0.978)\tLinearAcc@1  19.79 ( 23.78)\tLinearAcc@5  70.83 ( 71.33)\tLoss 4.1995e-01 (4.1491e-01)\n",
            "Test: [0/5]\tTime 42.893 (42.893)\tData  0.000 ( 0.000)\tLinearAcc@1  27.08 ( 27.08)\tLinearAcc@5  70.83 ( 70.83)\tLoss 4.1734e-01 (4.1734e-01)\n",
            " * LinearAcc@1 25.417 LinearAcc@5 69.375 Loss 0.442\n",
            "Epoch: [9][  0/122]\tTime 54.284 (54.284)\tData 54.034 (54.034)\tLinearAcc@1  25.00 ( 25.00)\tLinearAcc@5  71.88 ( 71.88)\tLoss 3.9218e-01 (3.9218e-01)\n",
            "Epoch: [9][ 10/122]\tTime  0.290 ( 5.292)\tData  0.066 ( 5.083)\tLinearAcc@1  25.00 ( 26.70)\tLinearAcc@5  71.88 ( 73.86)\tLoss 4.0658e-01 (4.0363e-01)\n",
            "Epoch: [9][ 20/122]\tTime  1.035 ( 3.279)\tData  0.920 ( 3.088)\tLinearAcc@1  23.96 ( 25.20)\tLinearAcc@5  70.83 ( 73.07)\tLoss 3.8007e-01 (4.0241e-01)\n",
            "Epoch: [9][ 30/122]\tTime  0.233 ( 2.330)\tData  0.000 ( 2.124)\tLinearAcc@1  25.00 ( 25.27)\tLinearAcc@5  76.04 ( 73.39)\tLoss 4.6468e-01 (4.0266e-01)\n",
            "Epoch: [9][ 40/122]\tTime  0.187 ( 2.017)\tData  0.079 ( 1.823)\tLinearAcc@1  22.92 ( 24.59)\tLinearAcc@5  72.92 ( 72.61)\tLoss 3.9308e-01 (4.0430e-01)\n",
            "Epoch: [9][ 50/122]\tTime  3.459 ( 1.854)\tData  3.296 ( 1.664)\tLinearAcc@1  13.54 ( 24.14)\tLinearAcc@5  68.75 ( 72.08)\tLoss 3.8034e-01 (4.0128e-01)\n",
            "Epoch: [9][ 60/122]\tTime  0.156 ( 1.580)\tData  0.004 ( 1.394)\tLinearAcc@1  27.08 ( 23.98)\tLinearAcc@5  73.96 ( 71.88)\tLoss 4.3885e-01 (4.0227e-01)\n",
            "Epoch: [9][ 70/122]\tTime  0.268 ( 1.495)\tData  0.048 ( 1.308)\tLinearAcc@1  21.88 ( 23.87)\tLinearAcc@5  79.17 ( 72.24)\tLoss 3.9387e-01 (4.0101e-01)\n",
            "Epoch: [9][ 80/122]\tTime  4.454 ( 1.408)\tData  4.270 ( 1.217)\tLinearAcc@1  16.67 ( 23.80)\tLinearAcc@5  67.71 ( 72.18)\tLoss 4.1856e-01 (4.0205e-01)\n",
            "Epoch: [9][ 90/122]\tTime  0.149 ( 1.325)\tData  0.000 ( 1.136)\tLinearAcc@1  23.96 ( 24.28)\tLinearAcc@5  69.79 ( 72.45)\tLoss 3.5975e-01 (4.0052e-01)\n",
            "Epoch: [9][100/122]\tTime  0.163 ( 1.302)\tData  0.000 ( 1.114)\tLinearAcc@1  31.25 ( 24.53)\tLinearAcc@5  71.88 ( 72.57)\tLoss 4.2061e-01 (4.0038e-01)\n",
            "Epoch: [9][110/122]\tTime  0.174 ( 1.205)\tData  0.000 ( 1.019)\tLinearAcc@1  23.96 ( 24.47)\tLinearAcc@5  70.83 ( 72.50)\tLoss 3.7297e-01 (3.9955e-01)\n",
            "Epoch: [9][120/122]\tTime  0.168 ( 1.128)\tData  0.000 ( 0.947)\tLinearAcc@1  26.04 ( 24.56)\tLinearAcc@5  71.88 ( 72.38)\tLoss 3.5451e-01 (4.0022e-01)\n",
            "Test: [0/5]\tTime 41.811 (41.811)\tData  0.000 ( 0.000)\tLinearAcc@1  27.08 ( 27.08)\tLinearAcc@5  73.96 ( 73.96)\tLoss 4.2118e-01 (4.2118e-01)\n",
            " * LinearAcc@1 25.833 LinearAcc@5 72.083 Loss 0.421\n"
          ]
        }
      ]
    },
    {
      "cell_type": "markdown",
      "source": [
        "2 - Rotation prediction"
      ],
      "metadata": {
        "id": "TIsRLzFAwWXX"
      }
    },
    {
      "cell_type": "code",
      "source": [
        "! CUDA_VISIBLE_DEVICES=0 python train_self_supervised_task.py -d imagenet100 -t rotation -b 96 -e 10 --lr 1e-3 --o adam"
      ],
      "metadata": {
        "colab": {
          "base_uri": "https://localhost:8080/"
        },
        "id": "c4XNKJWEwWBy",
        "outputId": "530879b7-e9a0-4b6e-9429-73057932c41b"
      },
      "execution_count": null,
      "outputs": [
        {
          "output_type": "stream",
          "name": "stdout",
          "text": [
            "Starting process on GPU: 0\n",
            "/usr/local/lib/python3.10/dist-packages/torch/utils/data/dataloader.py:557: UserWarning: This DataLoader will create 16 worker processes in total. Our suggested max number of worker in current system is 2, which is smaller than what this DataLoader is going to create. Please be aware that excessive worker creation might get DataLoader running slow or even freeze, lower the worker number to avoid potential slowness/freeze if necessary.\n",
            "  warnings.warn(_create_warning_msg(\n",
            "[W reducer.cpp:1346] Warning: find_unused_parameters=True was specified in DDP constructor, but did not find any unused parameters in the forward pass. This flag results in an extra traversal of the autograd graph every iteration,  which can adversely affect performance. If your model indeed never has any unused parameters in the forward pass, consider turning this flag off. Note that this warning may be a false positive if your model has flow control causing later iterations to have unused parameters. (function operator())\n",
            "Epoch: [0][  0/122]\tTime 79.230 (79.230)\tData 56.767 (56.767)\tLinearAcc@1  14.58 ( 14.58)\tLinearAcc@5  48.96 ( 48.96)\tLoss 1.4548e+00 (1.4548e+00)\tAcc1  22.66 ( 22.66)\n",
            "Epoch: [0][ 10/122]\tTime  0.570 ( 7.629)\tData  0.004 ( 5.166)\tLinearAcc@1  16.67 ( 13.83)\tLinearAcc@5  63.54 ( 57.39)\tLoss 1.7257e+00 (2.7061e+00)\tAcc1  25.26 ( 25.69)\n",
            "Epoch: [0][ 20/122]\tTime  0.378 ( 4.174)\tData  0.009 ( 2.721)\tLinearAcc@1  17.71 ( 16.42)\tLinearAcc@5  63.54 ( 61.81)\tLoss 1.5342e+00 (2.1704e+00)\tAcc1  26.56 ( 25.76)\n",
            "Epoch: [0][ 30/122]\tTime  0.342 ( 2.940)\tData  0.001 ( 1.849)\tLinearAcc@1  16.67 ( 17.34)\tLinearAcc@5  64.58 ( 63.84)\tLoss 1.4362e+00 (1.9342e+00)\tAcc1  26.56 ( 26.12)\n",
            "Epoch: [0][ 40/122]\tTime  0.349 ( 2.307)\tData  0.006 ( 1.404)\tLinearAcc@1  18.75 ( 18.11)\tLinearAcc@5  71.88 ( 64.94)\tLoss 1.4116e+00 (1.8039e+00)\tAcc1  25.00 ( 26.37)\n",
            "Epoch: [0][ 50/122]\tTime  0.316 ( 1.952)\tData  0.010 ( 1.164)\tLinearAcc@1  25.00 ( 18.91)\tLinearAcc@5  65.62 ( 65.32)\tLoss 1.3765e+00 (1.7245e+00)\tAcc1  25.26 ( 26.48)\n",
            "Epoch: [0][ 60/122]\tTime  0.331 ( 1.791)\tData  0.024 ( 1.085)\tLinearAcc@1  23.96 ( 19.50)\tLinearAcc@5  73.96 ( 65.92)\tLoss 1.3852e+00 (1.6680e+00)\tAcc1  27.08 ( 26.83)\n",
            "Epoch: [0][ 70/122]\tTime  0.313 ( 1.603)\tData  0.003 ( 0.955)\tLinearAcc@1  25.00 ( 19.97)\tLinearAcc@5  73.96 ( 66.75)\tLoss 1.3924e+00 (1.6272e+00)\tAcc1  24.48 ( 27.15)\n",
            "Epoch: [0][ 80/122]\tTime  0.321 ( 1.523)\tData  0.000 ( 0.918)\tLinearAcc@1  16.67 ( 19.92)\tLinearAcc@5  68.75 ( 66.89)\tLoss 1.3604e+00 (1.5946e+00)\tAcc1  30.73 ( 27.62)\n",
            "Epoch: [0][ 90/122]\tTime  1.634 ( 1.441)\tData  1.460 ( 0.872)\tLinearAcc@1  19.79 ( 20.33)\tLinearAcc@5  68.75 ( 67.43)\tLoss 1.3930e+00 (1.5690e+00)\tAcc1  28.91 ( 28.25)\n",
            "Epoch: [0][100/122]\tTime  0.406 ( 1.338)\tData  0.000 ( 0.795)\tLinearAcc@1  28.12 ( 20.60)\tLinearAcc@5  75.00 ( 67.80)\tLoss 1.3912e+00 (1.5484e+00)\tAcc1  33.85 ( 28.79)\n",
            "Epoch: [0][110/122]\tTime  0.330 ( 1.296)\tData  0.000 ( 0.776)\tLinearAcc@1  21.88 ( 20.86)\tLinearAcc@5  73.96 ( 67.99)\tLoss 1.3325e+00 (1.5302e+00)\tAcc1  38.54 ( 29.31)\n",
            "Epoch: [0][120/122]\tTime  0.328 ( 1.216)\tData  0.000 ( 0.713)\tLinearAcc@1  12.50 ( 20.93)\tLinearAcc@5  66.67 ( 68.18)\tLoss 1.3196e+00 (1.5145e+00)\tAcc1  38.54 ( 29.79)\n",
            "Test: [0/5]\tTime 41.709 (41.709)\tData  0.000 ( 0.000)\tLinearAcc@1  21.88 ( 21.88)\tLinearAcc@5  62.50 ( 62.50)\tLoss 1.3702e+00 (1.3702e+00)\tAcc1  33.85 ( 33.85)\n",
            " * LinearAcc@1 21.875 LinearAcc@5 68.958 Loss 1.348 Acc1 37.604\n",
            "Epoch: [1][  0/122]\tTime 55.068 (55.068)\tData 54.777 (54.777)\tLinearAcc@1  17.71 ( 17.71)\tLinearAcc@5  69.79 ( 69.79)\tLoss 1.3193e+00 (1.3193e+00)\tAcc1  35.94 ( 35.94)\n",
            "Epoch: [1][ 10/122]\tTime  0.337 ( 5.456)\tData  0.007 ( 5.135)\tLinearAcc@1  31.25 ( 24.34)\tLinearAcc@5  76.04 ( 73.39)\tLoss 1.2873e+00 (1.3281e+00)\tAcc1  41.15 ( 37.36)\n",
            "Epoch: [1][ 20/122]\tTime  0.692 ( 3.275)\tData  0.002 ( 2.948)\tLinearAcc@1  26.04 ( 23.56)\tLinearAcc@5  72.92 ( 72.12)\tLoss 1.3273e+00 (1.3246e+00)\tAcc1  36.46 ( 38.16)\n",
            "Epoch: [1][ 30/122]\tTime  0.385 ( 2.331)\tData  0.018 ( 1.999)\tLinearAcc@1  30.21 ( 23.25)\tLinearAcc@5  75.00 ( 71.81)\tLoss 1.3251e+00 (1.3300e+00)\tAcc1  35.68 ( 37.28)\n",
            "Epoch: [1][ 40/122]\tTime  0.346 ( 2.044)\tData  0.005 ( 1.720)\tLinearAcc@1  17.71 ( 22.89)\tLinearAcc@5  67.71 ( 70.88)\tLoss 1.3000e+00 (1.3270e+00)\tAcc1  40.10 ( 37.28)\n",
            "Epoch: [1][ 50/122]\tTime  1.265 ( 1.753)\tData  1.084 ( 1.435)\tLinearAcc@1  23.96 ( 22.69)\tLinearAcc@5  67.71 ( 70.45)\tLoss 1.3419e+00 (1.3263e+00)\tAcc1  36.46 ( 37.11)\n",
            "Epoch: [1][ 60/122]\tTime  0.324 ( 1.557)\tData  0.000 ( 1.243)\tLinearAcc@1  20.83 ( 23.26)\tLinearAcc@5  71.88 ( 70.78)\tLoss 1.2982e+00 (1.3253e+00)\tAcc1  38.28 ( 37.11)\n",
            "Epoch: [1][ 70/122]\tTime  0.319 ( 1.474)\tData  0.006 ( 1.161)\tLinearAcc@1  19.79 ( 23.40)\tLinearAcc@5  70.83 ( 71.07)\tLoss 1.2934e+00 (1.3226e+00)\tAcc1  35.42 ( 37.22)\n",
            "Epoch: [1][ 80/122]\tTime  0.329 ( 1.334)\tData  0.101 ( 1.022)\tLinearAcc@1  22.92 ( 23.65)\tLinearAcc@5  77.08 ( 71.49)\tLoss 1.2471e+00 (1.3193e+00)\tAcc1  42.45 ( 37.56)\n",
            "Epoch: [1][ 90/122]\tTime  0.305 ( 1.296)\tData  0.000 ( 0.984)\tLinearAcc@1  31.25 ( 23.87)\tLinearAcc@5  76.04 ( 71.25)\tLoss 1.2581e+00 (1.3112e+00)\tAcc1  44.53 ( 38.30)\n",
            "Epoch: [1][100/122]\tTime  0.304 ( 1.231)\tData  0.000 ( 0.922)\tLinearAcc@1  19.79 ( 24.06)\tLinearAcc@5  69.79 ( 71.42)\tLoss 1.2649e+00 (1.3120e+00)\tAcc1  44.79 ( 38.29)\n",
            "Epoch: [1][110/122]\tTime  0.331 ( 1.150)\tData  0.000 ( 0.841)\tLinearAcc@1  33.33 ( 23.99)\tLinearAcc@5  80.21 ( 71.62)\tLoss 1.2804e+00 (1.3077e+00)\tAcc1  38.02 ( 38.68)\n",
            "Epoch: [1][120/122]\tTime  0.338 ( 1.083)\tData  0.000 ( 0.775)\tLinearAcc@1  22.92 ( 24.13)\tLinearAcc@5  69.79 ( 71.80)\tLoss 1.3242e+00 (1.3033e+00)\tAcc1  34.11 ( 39.09)\n",
            "Test: [0/5]\tTime 41.436 (41.436)\tData  0.000 ( 0.000)\tLinearAcc@1  17.71 ( 17.71)\tLinearAcc@5  64.58 ( 64.58)\tLoss 1.2893e+00 (1.2893e+00)\tAcc1  41.15 ( 41.15)\n",
            " * LinearAcc@1 19.167 LinearAcc@5 65.625 Loss 1.267 Acc1 42.917\n",
            "Epoch: [2][  0/122]\tTime 57.230 (57.230)\tData 57.020 (57.020)\tLinearAcc@1  25.00 ( 25.00)\tLinearAcc@5  77.08 ( 77.08)\tLoss 1.2386e+00 (1.2386e+00)\tAcc1  43.49 ( 43.49)\n",
            "Epoch: [2][ 10/122]\tTime  0.382 ( 5.521)\tData  0.018 ( 5.207)\tLinearAcc@1  26.04 ( 27.46)\tLinearAcc@5  72.92 ( 75.19)\tLoss 1.2949e+00 (1.2614e+00)\tAcc1  38.02 ( 42.16)\n",
            "Epoch: [2][ 20/122]\tTime  0.330 ( 3.356)\tData  0.000 ( 3.036)\tLinearAcc@1  19.79 ( 27.23)\tLinearAcc@5  63.54 ( 74.16)\tLoss 1.3011e+00 (1.2522e+00)\tAcc1  38.02 ( 43.13)\n",
            "Epoch: [2][ 30/122]\tTime  0.341 ( 2.386)\tData  0.004 ( 2.064)\tLinearAcc@1  25.00 ( 25.81)\tLinearAcc@5  67.71 ( 74.06)\tLoss 1.2940e+00 (1.2562e+00)\tAcc1  39.58 ( 43.41)\n",
            "Epoch: [2][ 40/122]\tTime  0.320 ( 1.980)\tData  0.000 ( 1.657)\tLinearAcc@1  20.83 ( 25.56)\tLinearAcc@5  75.00 ( 74.62)\tLoss 1.2457e+00 (1.2587e+00)\tAcc1  39.58 ( 43.56)\n",
            "Epoch: [2][ 50/122]\tTime  0.331 ( 1.769)\tData  0.019 ( 1.446)\tLinearAcc@1  27.08 ( 26.18)\tLinearAcc@5  72.92 ( 74.59)\tLoss 1.2890e+00 (1.2622e+00)\tAcc1  40.62 ( 42.92)\n",
            "Epoch: [2][ 60/122]\tTime  0.334 ( 1.535)\tData  0.003 ( 1.212)\tLinearAcc@1  41.67 ( 26.40)\tLinearAcc@5  82.29 ( 74.98)\tLoss 1.2410e+00 (1.2601e+00)\tAcc1  44.27 ( 42.96)\n",
            "Epoch: [2][ 70/122]\tTime  0.379 ( 1.438)\tData  0.000 ( 1.117)\tLinearAcc@1  42.71 ( 27.19)\tLinearAcc@5  77.08 ( 75.01)\tLoss 1.2017e+00 (1.2570e+00)\tAcc1  45.83 ( 43.18)\n",
            "Epoch: [2][ 80/122]\tTime  5.744 ( 1.375)\tData  5.510 ( 1.057)\tLinearAcc@1  34.38 ( 27.17)\tLinearAcc@5  75.00 ( 74.65)\tLoss 1.2674e+00 (1.2573e+00)\tAcc1  44.27 ( 43.17)\n",
            "Epoch: [2][ 90/122]\tTime  0.353 ( 1.263)\tData  0.000 ( 0.943)\tLinearAcc@1  14.58 ( 27.12)\tLinearAcc@5  63.54 ( 74.45)\tLoss 1.3216e+00 (1.2583e+00)\tAcc1  36.72 ( 42.99)\n",
            "Epoch: [2][100/122]\tTime  0.325 ( 1.246)\tData  0.000 ( 0.926)\tLinearAcc@1  18.75 ( 27.10)\tLinearAcc@5  68.75 ( 74.47)\tLoss 1.1690e+00 (1.2579e+00)\tAcc1  44.79 ( 42.85)\n",
            "Epoch: [2][110/122]\tTime  0.371 ( 1.163)\tData  0.000 ( 0.844)\tLinearAcc@1  31.25 ( 27.19)\tLinearAcc@5  84.38 ( 74.85)\tLoss 1.2581e+00 (1.2568e+00)\tAcc1  44.79 ( 42.99)\n",
            "Epoch: [2][120/122]\tTime  0.328 ( 1.094)\tData  0.000 ( 0.776)\tLinearAcc@1  22.92 ( 27.22)\tLinearAcc@5  78.12 ( 74.78)\tLoss 1.2987e+00 (1.2569e+00)\tAcc1  38.28 ( 42.92)\n",
            "Test: [0/5]\tTime 43.227 (43.227)\tData  0.000 ( 0.000)\tLinearAcc@1  26.04 ( 26.04)\tLinearAcc@5  75.00 ( 75.00)\tLoss 1.1825e+00 (1.1825e+00)\tAcc1  53.12 ( 53.12)\n",
            " * LinearAcc@1 32.708 LinearAcc@5 79.375 Loss 1.234 Acc1 47.656\n",
            "Epoch: [3][  0/122]\tTime 58.046 (58.046)\tData 57.832 (57.832)\tLinearAcc@1  32.29 ( 32.29)\tLinearAcc@5  78.12 ( 78.12)\tLoss 1.3144e+00 (1.3144e+00)\tAcc1  39.06 ( 39.06)\n",
            "Epoch: [3][ 10/122]\tTime  0.317 ( 5.586)\tData  0.005 ( 5.277)\tLinearAcc@1  17.71 ( 27.46)\tLinearAcc@5  77.08 ( 75.85)\tLoss 1.2797e+00 (1.2514e+00)\tAcc1  41.93 ( 43.84)\n",
            "Epoch: [3][ 20/122]\tTime  0.422 ( 3.353)\tData  0.001 ( 3.037)\tLinearAcc@1  30.21 ( 29.37)\tLinearAcc@5  78.12 ( 76.44)\tLoss 1.1896e+00 (1.2461e+00)\tAcc1  50.26 ( 43.61)\n",
            "Epoch: [3][ 30/122]\tTime  0.303 ( 2.389)\tData  0.034 ( 2.064)\tLinearAcc@1  28.12 ( 29.17)\tLinearAcc@5  77.08 ( 77.42)\tLoss 1.2225e+00 (1.2295e+00)\tAcc1  46.35 ( 44.63)\n",
            "Epoch: [3][ 40/122]\tTime  0.338 ( 2.030)\tData  0.006 ( 1.716)\tLinearAcc@1  36.46 ( 29.34)\tLinearAcc@5  73.96 ( 77.77)\tLoss 1.1962e+00 (1.2251e+00)\tAcc1  46.09 ( 44.60)\n",
            "Epoch: [3][ 50/122]\tTime  0.979 ( 1.833)\tData  0.764 ( 1.521)\tLinearAcc@1  34.38 ( 29.84)\tLinearAcc@5  75.00 ( 78.15)\tLoss 1.1855e+00 (1.2239e+00)\tAcc1  43.49 ( 44.66)\n",
            "Epoch: [3][ 60/122]\tTime  0.338 ( 1.588)\tData  0.000 ( 1.274)\tLinearAcc@1  29.17 ( 30.24)\tLinearAcc@5  77.08 ( 78.36)\tLoss 1.1918e+00 (1.2194e+00)\tAcc1  46.61 ( 44.79)\n",
            "Epoch: [3][ 70/122]\tTime  0.304 ( 1.484)\tData  0.000 ( 1.172)\tLinearAcc@1  42.71 ( 30.69)\tLinearAcc@5  84.38 ( 78.37)\tLoss 1.2013e+00 (1.2184e+00)\tAcc1  44.79 ( 44.98)\n",
            "Epoch: [3][ 80/122]\tTime  6.024 ( 1.418)\tData  5.793 ( 1.102)\tLinearAcc@1  28.12 ( 30.53)\tLinearAcc@5  78.12 ( 78.67)\tLoss 1.2002e+00 (1.2192e+00)\tAcc1  46.61 ( 44.91)\n",
            "Epoch: [3][ 90/122]\tTime  0.330 ( 1.306)\tData  0.004 ( 0.991)\tLinearAcc@1  27.08 ( 30.72)\tLinearAcc@5  78.12 ( 78.71)\tLoss 1.2087e+00 (1.2162e+00)\tAcc1  47.92 ( 45.26)\n",
            "Epoch: [3][100/122]\tTime  0.304 ( 1.275)\tData  0.001 ( 0.962)\tLinearAcc@1  35.42 ( 30.82)\tLinearAcc@5  73.96 ( 78.65)\tLoss 1.1930e+00 (1.2147e+00)\tAcc1  46.35 ( 45.46)\n",
            "Epoch: [3][110/122]\tTime  0.334 ( 1.190)\tData  0.000 ( 0.878)\tLinearAcc@1  37.50 ( 31.07)\tLinearAcc@5  78.12 ( 78.98)\tLoss 1.1938e+00 (1.2105e+00)\tAcc1  45.05 ( 45.72)\n",
            "Epoch: [3][120/122]\tTime  0.336 ( 1.119)\tData  0.000 ( 0.807)\tLinearAcc@1  40.62 ( 31.24)\tLinearAcc@5  73.96 ( 79.06)\tLoss 1.2096e+00 (1.2085e+00)\tAcc1  47.92 ( 45.87)\n",
            "Test: [0/5]\tTime 40.990 (40.990)\tData  0.000 ( 0.000)\tLinearAcc@1  35.42 ( 35.42)\tLinearAcc@5  87.50 ( 87.50)\tLoss 1.0733e+00 (1.0733e+00)\tAcc1  53.39 ( 53.39)\n",
            " * LinearAcc@1 36.042 LinearAcc@5 81.667 Loss 1.178 Acc1 46.406\n",
            "Epoch: [4][  0/122]\tTime 56.413 (56.413)\tData 56.105 (56.105)\tLinearAcc@1  32.29 ( 32.29)\tLinearAcc@5  83.33 ( 83.33)\tLoss 1.1749e+00 (1.1749e+00)\tAcc1  50.52 ( 50.52)\n",
            "Epoch: [4][ 10/122]\tTime  0.388 ( 5.525)\tData  0.003 ( 5.217)\tLinearAcc@1  40.62 ( 36.65)\tLinearAcc@5  82.29 ( 80.87)\tLoss 1.1566e+00 (1.1906e+00)\tAcc1  47.14 ( 47.82)\n",
            "Epoch: [4][ 20/122]\tTime  0.420 ( 3.272)\tData  0.000 ( 2.974)\tLinearAcc@1  40.62 ( 36.21)\tLinearAcc@5  80.21 ( 81.94)\tLoss 1.1994e+00 (1.1753e+00)\tAcc1  48.96 ( 48.57)\n",
            "Epoch: [4][ 30/122]\tTime  0.314 ( 2.331)\tData  0.000 ( 2.019)\tLinearAcc@1  32.29 ( 35.32)\tLinearAcc@5  76.04 ( 82.09)\tLoss 1.1574e+00 (1.1690e+00)\tAcc1  48.18 ( 49.05)\n",
            "Epoch: [4][ 40/122]\tTime  0.307 ( 1.999)\tData  0.000 ( 1.688)\tLinearAcc@1  32.29 ( 35.32)\tLinearAcc@5  82.29 ( 82.16)\tLoss 1.2163e+00 (1.1736e+00)\tAcc1  44.27 ( 48.87)\n",
            "Epoch: [4][ 50/122]\tTime  0.395 ( 1.775)\tData  0.000 ( 1.462)\tLinearAcc@1  33.33 ( 35.48)\tLinearAcc@5  83.33 ( 82.11)\tLoss 1.1160e+00 (1.1623e+00)\tAcc1  52.34 ( 49.35)\n",
            "Epoch: [4][ 60/122]\tTime  0.308 ( 1.575)\tData  0.000 ( 1.262)\tLinearAcc@1  32.29 ( 35.76)\tLinearAcc@5  83.33 ( 82.19)\tLoss 1.1782e+00 (1.1645e+00)\tAcc1  48.18 ( 49.07)\n",
            "Epoch: [4][ 70/122]\tTime  0.424 ( 1.448)\tData  0.000 ( 1.135)\tLinearAcc@1  30.21 ( 35.96)\tLinearAcc@5  80.21 ( 82.25)\tLoss 1.1144e+00 (1.1669e+00)\tAcc1  52.34 ( 48.81)\n",
            "Epoch: [4][ 80/122]\tTime  7.046 ( 1.394)\tData  6.805 ( 1.081)\tLinearAcc@1  29.17 ( 35.69)\tLinearAcc@5  75.00 ( 82.15)\tLoss 1.1875e+00 (1.1663e+00)\tAcc1  47.92 ( 49.03)\n",
            "Epoch: [4][ 90/122]\tTime  0.346 ( 1.277)\tData  0.000 ( 0.965)\tLinearAcc@1  37.50 ( 35.51)\tLinearAcc@5  79.17 ( 81.99)\tLoss 1.1544e+00 (1.1662e+00)\tAcc1  50.00 ( 48.98)\n",
            "Epoch: [4][100/122]\tTime  0.329 ( 1.217)\tData  0.000 ( 0.905)\tLinearAcc@1  32.29 ( 35.60)\tLinearAcc@5  82.29 ( 82.06)\tLoss 1.1193e+00 (1.1641e+00)\tAcc1  53.12 ( 49.03)\n",
            "Epoch: [4][110/122]\tTime  0.365 ( 1.138)\tData  0.000 ( 0.824)\tLinearAcc@1  37.50 ( 35.95)\tLinearAcc@5  84.38 ( 82.12)\tLoss 1.1858e+00 (1.1616e+00)\tAcc1  45.57 ( 49.24)\n",
            "Epoch: [4][120/122]\tTime  0.324 ( 1.077)\tData  0.000 ( 0.765)\tLinearAcc@1  39.58 ( 35.85)\tLinearAcc@5  79.17 ( 81.95)\tLoss 1.0913e+00 (1.1607e+00)\tAcc1  54.17 ( 49.28)\n",
            "Test: [0/5]\tTime 43.853 (43.853)\tData  0.000 ( 0.000)\tLinearAcc@1  40.62 ( 40.62)\tLinearAcc@5  85.42 ( 85.42)\tLoss 1.1265e+00 (1.1265e+00)\tAcc1  50.26 ( 50.26)\n",
            " * LinearAcc@1 38.750 LinearAcc@5 83.125 Loss 1.212 Acc1 48.021\n",
            "Epoch: [5][  0/122]\tTime 56.760 (56.760)\tData 56.510 (56.510)\tLinearAcc@1  38.54 ( 38.54)\tLinearAcc@5  78.12 ( 78.12)\tLoss 1.1453e+00 (1.1453e+00)\tAcc1  52.60 ( 52.60)\n",
            "Epoch: [5][ 10/122]\tTime  0.358 ( 5.537)\tData  0.001 ( 5.222)\tLinearAcc@1  34.38 ( 36.84)\tLinearAcc@5  80.21 ( 81.72)\tLoss 1.0505e+00 (1.1305e+00)\tAcc1  56.77 ( 50.78)\n",
            "Epoch: [5][ 20/122]\tTime  0.310 ( 3.344)\tData  0.000 ( 3.031)\tLinearAcc@1  36.46 ( 38.49)\tLinearAcc@5  78.12 ( 82.79)\tLoss 1.1494e+00 (1.1407e+00)\tAcc1  51.30 ( 50.78)\n",
            "Epoch: [5][ 30/122]\tTime  0.321 ( 2.382)\tData  0.000 ( 2.059)\tLinearAcc@1  32.29 ( 38.27)\tLinearAcc@5  81.25 ( 82.63)\tLoss 1.1115e+00 (1.1288e+00)\tAcc1  51.82 ( 51.13)\n",
            "Epoch: [5][ 40/122]\tTime  0.368 ( 1.975)\tData  0.028 ( 1.658)\tLinearAcc@1  39.58 ( 39.10)\tLinearAcc@5  87.50 ( 83.71)\tLoss 1.1743e+00 (1.1273e+00)\tAcc1  46.61 ( 51.37)\n",
            "Epoch: [5][ 50/122]\tTime  0.357 ( 1.829)\tData  0.000 ( 1.516)\tLinearAcc@1  35.42 ( 39.34)\tLinearAcc@5  78.12 ( 83.62)\tLoss 1.2351e+00 (1.1224e+00)\tAcc1  46.61 ( 51.56)\n",
            "Epoch: [5][ 60/122]\tTime  0.357 ( 1.584)\tData  0.008 ( 1.271)\tLinearAcc@1  46.88 ( 39.43)\tLinearAcc@5  85.42 ( 83.85)\tLoss 1.1032e+00 (1.1193e+00)\tAcc1  54.69 ( 51.82)\n",
            "Epoch: [5][ 70/122]\tTime  0.328 ( 1.438)\tData  0.001 ( 1.130)\tLinearAcc@1  39.58 ( 39.51)\tLinearAcc@5  83.33 ( 83.96)\tLoss 1.1640e+00 (1.1224e+00)\tAcc1  48.44 ( 51.62)\n",
            "Epoch: [5][ 80/122]\tTime  2.903 ( 1.336)\tData  2.644 ( 1.027)\tLinearAcc@1  34.38 ( 39.25)\tLinearAcc@5  83.33 ( 84.00)\tLoss 1.0412e+00 (1.1213e+00)\tAcc1  57.03 ( 51.83)\n",
            "Epoch: [5][ 90/122]\tTime  0.344 ( 1.271)\tData  0.000 ( 0.962)\tLinearAcc@1  44.79 ( 39.27)\tLinearAcc@5  88.54 ( 83.85)\tLoss 1.1592e+00 (1.1221e+00)\tAcc1  52.08 ( 51.77)\n",
            "Epoch: [5][100/122]\tTime  0.344 ( 1.219)\tData  0.000 ( 0.911)\tLinearAcc@1  39.58 ( 39.15)\tLinearAcc@5  85.42 ( 83.78)\tLoss 1.0931e+00 (1.1229e+00)\tAcc1  52.08 ( 51.57)\n",
            "Epoch: [5][110/122]\tTime  0.320 ( 1.139)\tData  0.000 ( 0.831)\tLinearAcc@1  43.75 ( 39.41)\tLinearAcc@5  86.46 ( 84.10)\tLoss 1.1575e+00 (1.1204e+00)\tAcc1  48.96 ( 51.71)\n",
            "Epoch: [5][120/122]\tTime  0.341 ( 1.083)\tData  0.000 ( 0.777)\tLinearAcc@1  47.92 ( 39.41)\tLinearAcc@5  88.54 ( 84.04)\tLoss 9.9742e-01 (1.1169e+00)\tAcc1  60.16 ( 51.93)\n",
            "Test: [0/5]\tTime 46.158 (46.158)\tData  0.000 ( 0.000)\tLinearAcc@1  42.71 ( 42.71)\tLinearAcc@5  84.38 ( 84.38)\tLoss 9.4654e-01 (9.4654e-01)\tAcc1  64.58 ( 64.58)\n",
            " * LinearAcc@1 45.000 LinearAcc@5 86.875 Loss 1.035 Acc1 56.354\n",
            "Epoch: [6][  0/122]\tTime 53.052 (53.052)\tData 52.760 (52.760)\tLinearAcc@1  51.04 ( 51.04)\tLinearAcc@5  95.83 ( 95.83)\tLoss 1.0622e+00 (1.0622e+00)\tAcc1  57.55 ( 57.55)\n",
            "Epoch: [6][ 10/122]\tTime  0.346 ( 5.648)\tData  0.000 ( 5.329)\tLinearAcc@1  40.62 ( 41.29)\tLinearAcc@5  90.62 ( 86.55)\tLoss 1.0324e+00 (1.0505e+00)\tAcc1  53.65 ( 54.33)\n",
            "Epoch: [6][ 20/122]\tTime  0.348 ( 3.271)\tData  0.008 ( 2.940)\tLinearAcc@1  46.88 ( 42.46)\tLinearAcc@5  84.38 ( 86.56)\tLoss 9.6496e-01 (1.0445e+00)\tAcc1  64.84 ( 55.63)\n",
            "Epoch: [6][ 30/122]\tTime  0.347 ( 2.332)\tData  0.000 ( 2.003)\tLinearAcc@1  39.58 ( 42.84)\tLinearAcc@5  86.46 ( 86.90)\tLoss 1.1175e+00 (1.0463e+00)\tAcc1  48.44 ( 55.63)\n",
            "Epoch: [6][ 40/122]\tTime  0.352 ( 2.016)\tData  0.000 ( 1.692)\tLinearAcc@1  38.54 ( 42.78)\tLinearAcc@5  84.38 ( 87.09)\tLoss 1.0050e+00 (1.0498e+00)\tAcc1  57.29 ( 55.32)\n",
            "Epoch: [6][ 50/122]\tTime  1.646 ( 1.855)\tData  1.418 ( 1.533)\tLinearAcc@1  47.92 ( 42.75)\tLinearAcc@5  88.54 ( 87.05)\tLoss 1.0611e+00 (1.0493e+00)\tAcc1  53.91 ( 55.59)\n",
            "Epoch: [6][ 60/122]\tTime  0.326 ( 1.605)\tData  0.013 ( 1.285)\tLinearAcc@1  38.54 ( 42.21)\tLinearAcc@5  86.46 ( 86.75)\tLoss 1.0445e+00 (1.0510e+00)\tAcc1  56.77 ( 55.61)\n",
            "Epoch: [6][ 70/122]\tTime  0.320 ( 1.492)\tData  0.000 ( 1.176)\tLinearAcc@1  34.38 ( 41.87)\tLinearAcc@5  80.21 ( 86.52)\tLoss 1.1361e+00 (1.0568e+00)\tAcc1  52.86 ( 55.36)\n",
            "Epoch: [6][ 80/122]\tTime  4.133 ( 1.398)\tData  3.904 ( 1.082)\tLinearAcc@1  46.88 ( 42.32)\tLinearAcc@5  90.62 ( 86.42)\tLoss 1.0364e+00 (1.0585e+00)\tAcc1  57.81 ( 55.26)\n",
            "Epoch: [6][ 90/122]\tTime  0.346 ( 1.322)\tData  0.000 ( 1.007)\tLinearAcc@1  51.04 ( 42.55)\tLinearAcc@5  91.67 ( 86.78)\tLoss 1.1275e+00 (1.0609e+00)\tAcc1  54.43 ( 55.09)\n",
            "Epoch: [6][100/122]\tTime  0.349 ( 1.261)\tData  0.106 ( 0.949)\tLinearAcc@1  44.79 ( 42.62)\tLinearAcc@5  85.42 ( 86.93)\tLoss 9.9855e-01 (1.0579e+00)\tAcc1  57.29 ( 55.22)\n",
            "Epoch: [6][110/122]\tTime  0.283 ( 1.178)\tData  0.000 ( 0.865)\tLinearAcc@1  40.62 ( 42.61)\tLinearAcc@5  92.71 ( 86.86)\tLoss 1.1308e+00 (1.0578e+00)\tAcc1  52.34 ( 55.19)\n",
            "Epoch: [6][120/122]\tTime  0.314 ( 1.124)\tData  0.000 ( 0.813)\tLinearAcc@1  32.29 ( 42.76)\tLinearAcc@5  91.67 ( 87.08)\tLoss 1.0714e+00 (1.0544e+00)\tAcc1  53.91 ( 55.39)\n",
            "Test: [0/5]\tTime 48.762 (48.762)\tData  0.000 ( 0.000)\tLinearAcc@1  57.29 ( 57.29)\tLinearAcc@5  89.58 ( 89.58)\tLoss 9.4395e-01 (9.4395e-01)\tAcc1  62.76 ( 62.76)\n",
            " * LinearAcc@1 50.625 LinearAcc@5 88.125 Loss 1.041 Acc1 55.990\n",
            "Epoch: [7][  0/122]\tTime 55.865 (55.865)\tData 55.622 (55.622)\tLinearAcc@1  54.17 ( 54.17)\tLinearAcc@5  88.54 ( 88.54)\tLoss 9.4325e-01 (9.4325e-01)\tAcc1  61.20 ( 61.20)\n",
            "Epoch: [7][ 10/122]\tTime  0.348 ( 5.820)\tData  0.004 ( 5.488)\tLinearAcc@1  53.12 ( 47.44)\tLinearAcc@5  89.58 ( 87.50)\tLoss 9.7323e-01 (1.0295e+00)\tAcc1  58.59 ( 57.08)\n",
            "Epoch: [7][ 20/122]\tTime  0.307 ( 3.431)\tData  0.007 ( 3.098)\tLinearAcc@1  37.50 ( 46.33)\tLinearAcc@5  85.42 ( 87.65)\tLoss 1.0076e+00 (1.0432e+00)\tAcc1  52.86 ( 56.08)\n",
            "Epoch: [7][ 30/122]\tTime  0.327 ( 2.436)\tData  0.002 ( 2.106)\tLinearAcc@1  50.00 ( 46.64)\tLinearAcc@5  88.54 ( 87.47)\tLoss 9.6027e-01 (1.0357e+00)\tAcc1  58.85 ( 56.19)\n",
            "Epoch: [7][ 40/122]\tTime  0.357 ( 2.034)\tData  0.000 ( 1.712)\tLinearAcc@1  39.58 ( 46.72)\tLinearAcc@5  81.25 ( 87.83)\tLoss 1.1803e+00 (1.0163e+00)\tAcc1  53.39 ( 57.20)\n",
            "Epoch: [7][ 50/122]\tTime  0.625 ( 1.845)\tData  0.422 ( 1.529)\tLinearAcc@1  38.54 ( 46.96)\tLinearAcc@5  88.54 ( 87.93)\tLoss 1.1210e+00 (1.0269e+00)\tAcc1  47.40 ( 56.61)\n",
            "Epoch: [7][ 60/122]\tTime  0.353 ( 1.598)\tData  0.164 ( 1.284)\tLinearAcc@1  48.96 ( 47.03)\tLinearAcc@5  89.58 ( 87.93)\tLoss 9.5829e-01 (1.0275e+00)\tAcc1  60.42 ( 56.61)\n",
            "Epoch: [7][ 70/122]\tTime  0.299 ( 1.530)\tData  0.000 ( 1.218)\tLinearAcc@1  47.92 ( 47.30)\tLinearAcc@5  86.46 ( 87.91)\tLoss 1.0944e+00 (1.0276e+00)\tAcc1  54.43 ( 56.49)\n",
            "Epoch: [7][ 80/122]\tTime  1.756 ( 1.400)\tData  1.587 ( 1.092)\tLinearAcc@1  44.79 ( 47.11)\tLinearAcc@5  88.54 ( 87.81)\tLoss 8.9491e-01 (1.0263e+00)\tAcc1  65.89 ( 56.55)\n",
            "Epoch: [7][ 90/122]\tTime  0.388 ( 1.315)\tData  0.000 ( 1.004)\tLinearAcc@1  53.12 ( 47.34)\tLinearAcc@5  87.50 ( 87.77)\tLoss 9.4000e-01 (1.0174e+00)\tAcc1  57.81 ( 56.88)\n",
            "Epoch: [7][100/122]\tTime  0.289 ( 1.279)\tData  0.000 ( 0.973)\tLinearAcc@1  48.96 ( 47.15)\tLinearAcc@5  88.54 ( 87.76)\tLoss 9.4961e-01 (1.0155e+00)\tAcc1  63.80 ( 56.94)\n",
            "Epoch: [7][110/122]\tTime  0.344 ( 1.195)\tData  0.000 ( 0.887)\tLinearAcc@1  45.83 ( 47.23)\tLinearAcc@5  88.54 ( 87.81)\tLoss 1.0478e+00 (1.0146e+00)\tAcc1  58.33 ( 57.05)\n",
            "Epoch: [7][120/122]\tTime  0.338 ( 1.124)\tData  0.000 ( 0.819)\tLinearAcc@1  42.71 ( 47.52)\tLinearAcc@5  83.33 ( 87.92)\tLoss 9.9992e-01 (1.0129e+00)\tAcc1  58.85 ( 57.18)\n",
            "Test: [0/5]\tTime 47.938 (47.938)\tData  0.000 ( 0.000)\tLinearAcc@1  53.12 ( 53.12)\tLinearAcc@5  92.71 ( 92.71)\tLoss 8.6225e-01 (8.6225e-01)\tAcc1  65.36 ( 65.36)\n",
            " * LinearAcc@1 51.667 LinearAcc@5 91.667 Loss 0.964 Acc1 59.010\n",
            "Epoch: [8][  0/122]\tTime 57.616 (57.616)\tData 57.330 (57.330)\tLinearAcc@1  50.00 ( 50.00)\tLinearAcc@5  94.79 ( 94.79)\tLoss 1.0082e+00 (1.0082e+00)\tAcc1  55.21 ( 55.21)\n",
            "Epoch: [8][ 10/122]\tTime  0.349 ( 5.632)\tData  0.010 ( 5.315)\tLinearAcc@1  52.08 ( 50.47)\tLinearAcc@5  90.62 ( 88.35)\tLoss 9.1952e-01 (9.9687e-01)\tAcc1  65.10 ( 58.14)\n",
            "Epoch: [8][ 20/122]\tTime  0.359 ( 3.297)\tData  0.017 ( 2.993)\tLinearAcc@1  40.62 ( 50.35)\tLinearAcc@5  88.54 ( 89.58)\tLoss 9.2459e-01 (9.8192e-01)\tAcc1  62.50 ( 58.40)\n",
            "Epoch: [8][ 30/122]\tTime  0.443 ( 2.352)\tData  0.000 ( 2.035)\tLinearAcc@1  44.79 ( 49.76)\tLinearAcc@5  88.54 ( 89.82)\tLoss 9.0966e-01 (9.6665e-01)\tAcc1  62.50 ( 58.79)\n",
            "Epoch: [8][ 40/122]\tTime  0.337 ( 2.007)\tData  0.004 ( 1.691)\tLinearAcc@1  51.04 ( 50.28)\tLinearAcc@5  91.67 ( 90.02)\tLoss 1.0264e+00 (9.5885e-01)\tAcc1  63.80 ( 59.50)\n",
            "Epoch: [8][ 50/122]\tTime  0.380 ( 1.796)\tData  0.004 ( 1.482)\tLinearAcc@1  43.75 ( 50.49)\tLinearAcc@5  90.62 ( 90.11)\tLoss 9.5132e-01 (9.5607e-01)\tAcc1  62.50 ( 59.89)\n",
            "Epoch: [8][ 60/122]\tTime  0.345 ( 1.567)\tData  0.022 ( 1.254)\tLinearAcc@1  44.79 ( 50.51)\tLinearAcc@5  90.62 ( 89.81)\tLoss 8.4319e-01 (9.6032e-01)\tAcc1  65.10 ( 59.76)\n",
            "Epoch: [8][ 70/122]\tTime  0.365 ( 1.459)\tData  0.000 ( 1.150)\tLinearAcc@1  61.46 ( 50.56)\tLinearAcc@5  91.67 ( 89.61)\tLoss 8.6958e-01 (9.6097e-01)\tAcc1  64.84 ( 59.77)\n",
            "Epoch: [8][ 80/122]\tTime  3.289 ( 1.358)\tData  3.051 ( 1.049)\tLinearAcc@1  42.71 ( 50.30)\tLinearAcc@5  89.58 ( 89.45)\tLoss 1.1495e+00 (9.6370e-01)\tAcc1  54.17 ( 59.66)\n",
            "Epoch: [8][ 90/122]\tTime  0.368 ( 1.300)\tData  0.000 ( 0.991)\tLinearAcc@1  48.96 ( 50.26)\tLinearAcc@5  93.75 ( 89.32)\tLoss 1.0008e+00 (9.6070e-01)\tAcc1  57.29 ( 59.87)\n",
            "Epoch: [8][100/122]\tTime  2.282 ( 1.252)\tData  2.028 ( 0.945)\tLinearAcc@1  56.25 ( 50.17)\tLinearAcc@5  88.54 ( 89.36)\tLoss 9.1467e-01 (9.5906e-01)\tAcc1  60.42 ( 59.88)\n",
            "Epoch: [8][110/122]\tTime  0.349 ( 1.171)\tData  0.000 ( 0.861)\tLinearAcc@1  50.00 ( 50.35)\tLinearAcc@5  90.62 ( 89.33)\tLoss 1.0360e+00 (9.6025e-01)\tAcc1  60.42 ( 60.04)\n",
            "Epoch: [8][120/122]\tTime  0.323 ( 1.118)\tData  0.000 ( 0.808)\tLinearAcc@1  47.92 ( 50.75)\tLinearAcc@5  90.62 ( 89.50)\tLoss 1.0323e+00 (9.6115e-01)\tAcc1  56.51 ( 60.01)\n",
            "Test: [0/5]\tTime 42.609 (42.609)\tData  0.000 ( 0.000)\tLinearAcc@1  50.00 ( 50.00)\tLinearAcc@5  90.62 ( 90.62)\tLoss 8.0535e-01 (8.0535e-01)\tAcc1  69.79 ( 69.79)\n",
            " * LinearAcc@1 52.917 LinearAcc@5 89.792 Loss 0.912 Acc1 63.073\n",
            "Epoch: [9][  0/122]\tTime 53.274 (53.274)\tData 52.949 (52.949)\tLinearAcc@1  51.04 ( 51.04)\tLinearAcc@5  93.75 ( 93.75)\tLoss 1.0723e+00 (1.0723e+00)\tAcc1  51.82 ( 51.82)\n",
            "Epoch: [9][ 10/122]\tTime  0.343 ( 5.566)\tData  0.003 ( 5.249)\tLinearAcc@1  48.96 ( 55.02)\tLinearAcc@5  82.29 ( 91.19)\tLoss 9.3271e-01 (9.6025e-01)\tAcc1  61.72 ( 60.04)\n",
            "Epoch: [9][ 20/122]\tTime  0.365 ( 3.264)\tData  0.029 ( 2.968)\tLinearAcc@1  55.21 ( 54.07)\tLinearAcc@5  94.79 ( 90.13)\tLoss 9.0318e-01 (9.3663e-01)\tAcc1  60.94 ( 61.37)\n",
            "Epoch: [9][ 30/122]\tTime  0.354 ( 2.328)\tData  0.000 ( 2.018)\tLinearAcc@1  45.83 ( 52.92)\tLinearAcc@5  89.58 ( 89.62)\tLoss 9.3627e-01 (9.4310e-01)\tAcc1  65.10 ( 60.81)\n",
            "Epoch: [9][ 40/122]\tTime  0.360 ( 2.001)\tData  0.008 ( 1.698)\tLinearAcc@1  46.88 ( 52.90)\tLinearAcc@5  86.46 ( 89.86)\tLoss 8.9479e-01 (9.3811e-01)\tAcc1  63.80 ( 60.97)\n",
            "Epoch: [9][ 50/122]\tTime  6.759 ( 1.859)\tData  6.484 ( 1.558)\tLinearAcc@1  54.17 ( 52.84)\tLinearAcc@5  85.42 ( 89.83)\tLoss 8.4617e-01 (9.3430e-01)\tAcc1  63.80 ( 61.19)\n",
            "Epoch: [9][ 60/122]\tTime  0.296 ( 1.609)\tData  0.000 ( 1.307)\tLinearAcc@1  55.21 ( 52.53)\tLinearAcc@5  93.75 ( 89.92)\tLoss 1.0117e+00 (9.3633e-01)\tAcc1  56.51 ( 60.97)\n",
            "Epoch: [9][ 70/122]\tTime  0.370 ( 1.478)\tData  0.012 ( 1.180)\tLinearAcc@1  47.92 ( 52.16)\tLinearAcc@5  89.58 ( 89.91)\tLoss 9.4513e-01 (9.3966e-01)\tAcc1  60.42 ( 60.75)\n",
            "Epoch: [9][ 80/122]\tTime  4.633 ( 1.394)\tData  4.408 ( 1.090)\tLinearAcc@1  57.29 ( 52.42)\tLinearAcc@5  89.58 ( 89.96)\tLoss 9.3572e-01 (9.3272e-01)\tAcc1  63.02 ( 61.18)\n",
            "Epoch: [9][ 90/122]\tTime  0.332 ( 1.322)\tData  0.000 ( 1.019)\tLinearAcc@1  53.12 ( 52.45)\tLinearAcc@5  89.58 ( 89.85)\tLoss 9.0236e-01 (9.3658e-01)\tAcc1  64.32 ( 60.92)\n",
            "Epoch: [9][100/122]\tTime  0.381 ( 1.274)\tData  0.000 ( 0.970)\tLinearAcc@1  60.42 ( 52.62)\tLinearAcc@5  95.83 ( 89.98)\tLoss 9.3664e-01 (9.3654e-01)\tAcc1  60.68 ( 60.81)\n",
            "Epoch: [9][110/122]\tTime  0.328 ( 1.189)\tData  0.000 ( 0.884)\tLinearAcc@1  62.50 ( 52.82)\tLinearAcc@5  92.71 ( 89.98)\tLoss 8.6804e-01 (9.3184e-01)\tAcc1  64.32 ( 61.09)\n",
            "Epoch: [9][120/122]\tTime  0.340 ( 1.118)\tData  0.000 ( 0.812)\tLinearAcc@1  51.04 ( 53.03)\tLinearAcc@5  84.38 ( 89.92)\tLoss 9.7587e-01 (9.3078e-01)\tAcc1  55.21 ( 61.20)\n",
            "Test: [0/5]\tTime 42.811 (42.811)\tData  0.000 ( 0.000)\tLinearAcc@1  59.37 ( 59.37)\tLinearAcc@5  92.71 ( 92.71)\tLoss 7.2490e-01 (7.2490e-01)\tAcc1  76.56 ( 76.56)\n",
            " * LinearAcc@1 57.917 LinearAcc@5 91.875 Loss 0.856 Acc1 65.521\n"
          ]
        }
      ]
    },
    {
      "cell_type": "markdown",
      "source": [
        "3 - SimCLR"
      ],
      "metadata": {
        "id": "I9JJ-J2rwn6x"
      }
    },
    {
      "cell_type": "code",
      "source": [
        "! CUDA_VISIBLE_DEVICES=0 python train_self_supervised_task.py -d imagenet100 -t simclr -b 96 -e 10 --lr 1e-3 --o adam"
      ],
      "metadata": {
        "id": "RwhBkKiFwnMU",
        "colab": {
          "base_uri": "https://localhost:8080/"
        },
        "outputId": "d7583fa4-c853-4e15-dc23-c15699865ed3"
      },
      "execution_count": null,
      "outputs": [
        {
          "output_type": "stream",
          "name": "stdout",
          "text": [
            "Starting process on GPU: 0\n",
            "/usr/local/lib/python3.10/dist-packages/torch/utils/data/dataloader.py:557: UserWarning: This DataLoader will create 16 worker processes in total. Our suggested max number of worker in current system is 2, which is smaller than what this DataLoader is going to create. Please be aware that excessive worker creation might get DataLoader running slow or even freeze, lower the worker number to avoid potential slowness/freeze if necessary.\n",
            "  warnings.warn(_create_warning_msg(\n",
            "[W reducer.cpp:1346] Warning: find_unused_parameters=True was specified in DDP constructor, but did not find any unused parameters in the forward pass. This flag results in an extra traversal of the autograd graph every iteration,  which can adversely affect performance. If your model indeed never has any unused parameters in the forward pass, consider turning this flag off. Note that this warning may be a false positive if your model has flow control causing later iterations to have unused parameters. (function operator())\n",
            "Epoch: [0][  0/122]\tTime 98.229 (98.229)\tData 62.535 (62.535)\tLinearAcc@1   8.33 (  8.33)\tLinearAcc@5  42.71 ( 42.71)\tLoss 1.0439e+01 (1.0439e+01)\n",
            "Epoch: [0][ 10/122]\tTime  0.633 ( 9.517)\tData  0.015 ( 5.699)\tLinearAcc@1  11.46 (  9.00)\tLinearAcc@5  36.46 ( 46.21)\tLoss 9.8248e+00 (1.0188e+01)\n",
            "Epoch: [0][ 20/122]\tTime  0.995 ( 5.501)\tData  0.003 ( 3.000)\tLinearAcc@1  11.46 ( 10.37)\tLinearAcc@5  56.25 ( 48.21)\tLoss 9.3906e+00 (9.9431e+00)\n",
            "Epoch: [0][ 30/122]\tTime  1.775 ( 4.102)\tData  0.000 ( 2.035)\tLinearAcc@1  11.46 ( 11.66)\tLinearAcc@5  61.46 ( 49.83)\tLoss 9.3160e+00 (9.8228e+00)\n",
            "Epoch: [0][ 40/122]\tTime  1.002 ( 3.405)\tData  0.010 ( 1.541)\tLinearAcc@1  16.67 ( 12.75)\tLinearAcc@5  58.33 ( 52.29)\tLoss 9.5439e+00 (9.7622e+00)\n",
            "Epoch: [0][ 50/122]\tTime  1.001 ( 3.001)\tData  0.004 ( 1.240)\tLinearAcc@1  16.67 ( 13.68)\tLinearAcc@5  66.67 ( 54.29)\tLoss 9.4981e+00 (9.7032e+00)\n",
            "Epoch: [0][ 60/122]\tTime  1.717 ( 2.730)\tData  0.005 ( 1.037)\tLinearAcc@1  12.50 ( 13.92)\tLinearAcc@5  67.71 ( 55.72)\tLoss 9.1092e+00 (9.6507e+00)\n",
            "Epoch: [0][ 70/122]\tTime  0.916 ( 2.486)\tData  0.004 ( 0.892)\tLinearAcc@1  21.88 ( 14.35)\tLinearAcc@5  77.08 ( 56.97)\tLoss 9.5218e+00 (9.6059e+00)\n",
            "Epoch: [0][ 80/122]\tTime  0.892 ( 2.346)\tData  0.000 ( 0.783)\tLinearAcc@1  17.71 ( 15.02)\tLinearAcc@5  63.54 ( 58.23)\tLoss 9.0174e+00 (9.5491e+00)\n",
            "Epoch: [0][ 90/122]\tTime  1.063 ( 2.237)\tData  0.000 ( 0.697)\tLinearAcc@1  23.96 ( 15.76)\tLinearAcc@5  70.83 ( 59.46)\tLoss 8.7454e+00 (9.4855e+00)\n",
            "Epoch: [0][100/122]\tTime  0.631 ( 2.086)\tData  0.000 ( 0.628)\tLinearAcc@1  15.62 ( 16.00)\tLinearAcc@5  55.21 ( 59.99)\tLoss 8.7743e+00 (9.4419e+00)\n",
            "Epoch: [0][110/122]\tTime  0.631 ( 1.955)\tData  0.000 ( 0.574)\tLinearAcc@1  11.46 ( 16.28)\tLinearAcc@5  60.42 ( 60.72)\tLoss 9.2165e+00 (9.4039e+00)\n",
            "Epoch: [0][120/122]\tTime  0.627 ( 1.846)\tData  0.000 ( 0.529)\tLinearAcc@1  25.00 ( 16.46)\tLinearAcc@5  69.79 ( 61.25)\tLoss 9.3381e+00 (9.3742e+00)\n",
            "Test: [0/5]\tTime 41.597 (41.597)\tData  0.000 ( 0.000)\tLinearAcc@1  18.75 ( 18.75)\tLinearAcc@5  70.83 ( 70.83)\tLoss 7.7128e+00 (7.7128e+00)\n",
            " * LinearAcc@1 20.417 LinearAcc@5 68.958 Loss 7.761\n",
            "Epoch: [1][  0/122]\tTime 62.725 (62.725)\tData 61.702 (61.702)\tLinearAcc@1  19.79 ( 19.79)\tLinearAcc@5  75.00 ( 75.00)\tLoss 8.8943e+00 (8.8943e+00)\n",
            "Epoch: [1][ 10/122]\tTime  1.907 ( 6.902)\tData  0.040 ( 5.624)\tLinearAcc@1  16.67 ( 18.37)\tLinearAcc@5  64.58 ( 67.05)\tLoss 9.0051e+00 (8.9818e+00)\n",
            "Epoch: [1][ 20/122]\tTime  0.927 ( 4.132)\tData  0.006 ( 2.949)\tLinearAcc@1  19.79 ( 18.65)\tLinearAcc@5  59.37 ( 67.26)\tLoss 9.1752e+00 (8.9939e+00)\n",
            "Epoch: [1][ 30/122]\tTime  1.151 ( 3.237)\tData  0.037 ( 2.005)\tLinearAcc@1  27.08 ( 20.13)\tLinearAcc@5  70.83 ( 67.98)\tLoss 8.8050e+00 (8.9488e+00)\n",
            "Epoch: [1][ 40/122]\tTime  0.844 ( 2.764)\tData  0.000 ( 1.518)\tLinearAcc@1  23.96 ( 20.17)\tLinearAcc@5  70.83 ( 68.72)\tLoss 8.9023e+00 (8.9330e+00)\n",
            "Epoch: [1][ 50/122]\tTime  1.870 ( 2.445)\tData  0.000 ( 1.221)\tLinearAcc@1  26.04 ( 20.59)\tLinearAcc@5  76.04 ( 69.44)\tLoss 8.9944e+00 (8.9220e+00)\n",
            "Epoch: [1][ 60/122]\tTime  0.890 ( 2.236)\tData  0.009 ( 1.024)\tLinearAcc@1  21.88 ( 20.82)\tLinearAcc@5  77.08 ( 69.83)\tLoss 8.8750e+00 (8.8994e+00)\n",
            "Epoch: [1][ 70/122]\tTime  0.971 ( 2.111)\tData  0.007 ( 0.880)\tLinearAcc@1  19.79 ( 20.63)\tLinearAcc@5  76.04 ( 70.11)\tLoss 8.8315e+00 (8.8986e+00)\n",
            "Epoch: [1][ 80/122]\tTime  1.710 ( 1.991)\tData  0.000 ( 0.773)\tLinearAcc@1  20.83 ( 20.96)\tLinearAcc@5  69.79 ( 70.27)\tLoss 8.6417e+00 (8.8870e+00)\n",
            "Epoch: [1][ 90/122]\tTime  1.066 ( 1.901)\tData  0.000 ( 0.689)\tLinearAcc@1  23.96 ( 21.09)\tLinearAcc@5  79.17 ( 70.46)\tLoss 8.9139e+00 (8.8811e+00)\n",
            "Epoch: [1][100/122]\tTime  0.720 ( 1.831)\tData  0.000 ( 0.621)\tLinearAcc@1  28.12 ( 21.44)\tLinearAcc@5  73.96 ( 70.97)\tLoss 8.8212e+00 (8.8630e+00)\n",
            "Epoch: [1][110/122]\tTime  0.519 ( 1.724)\tData  0.000 ( 0.566)\tLinearAcc@1  20.83 ( 21.72)\tLinearAcc@5  72.92 ( 71.05)\tLoss 8.6581e+00 (8.8452e+00)\n",
            "Epoch: [1][120/122]\tTime  0.630 ( 1.634)\tData  0.000 ( 0.521)\tLinearAcc@1  26.04 ( 22.20)\tLinearAcc@5  73.96 ( 71.33)\tLoss 8.5855e+00 (8.8293e+00)\n",
            "Test: [0/5]\tTime 43.938 (43.938)\tData  0.000 ( 0.000)\tLinearAcc@1  27.08 ( 27.08)\tLinearAcc@5  80.21 ( 80.21)\tLoss 7.4448e+00 (7.4448e+00)\n",
            " * LinearAcc@1 26.458 LinearAcc@5 74.167 Loss 7.418\n",
            "Epoch: [2][  0/122]\tTime 65.661 (65.661)\tData 63.919 (63.919)\tLinearAcc@1  29.17 ( 29.17)\tLinearAcc@5  73.96 ( 73.96)\tLoss 8.5532e+00 (8.5532e+00)\n",
            "Epoch: [2][ 10/122]\tTime  1.062 ( 6.994)\tData  0.002 ( 5.814)\tLinearAcc@1  21.88 ( 24.43)\tLinearAcc@5  80.21 ( 76.61)\tLoss 9.1638e+00 (8.7496e+00)\n",
            "Epoch: [2][ 20/122]\tTime  1.007 ( 4.275)\tData  0.019 ( 3.049)\tLinearAcc@1  26.04 ( 24.90)\tLinearAcc@5  72.92 ( 75.94)\tLoss 8.4616e+00 (8.6949e+00)\n",
            "Epoch: [2][ 30/122]\tTime  1.472 ( 3.338)\tData  0.014 ( 2.069)\tLinearAcc@1  31.25 ( 25.44)\tLinearAcc@5  79.17 ( 75.71)\tLoss 8.4476e+00 (8.6676e+00)\n",
            "Epoch: [2][ 40/122]\tTime  1.559 ( 2.803)\tData  0.000 ( 1.587)\tLinearAcc@1  27.08 ( 25.74)\tLinearAcc@5  76.04 ( 75.89)\tLoss 8.4089e+00 (8.6462e+00)\n",
            "Epoch: [2][ 50/122]\tTime  0.845 ( 2.501)\tData  0.006 ( 1.277)\tLinearAcc@1  16.67 ( 25.39)\tLinearAcc@5  60.42 ( 75.33)\tLoss 8.4766e+00 (8.6166e+00)\n",
            "Epoch: [2][ 60/122]\tTime  0.737 ( 2.301)\tData  0.017 ( 1.070)\tLinearAcc@1  30.21 ( 25.20)\tLinearAcc@5  80.21 ( 74.83)\tLoss 8.5705e+00 (8.6180e+00)\n",
            "Epoch: [2][ 70/122]\tTime  1.694 ( 2.139)\tData  0.000 ( 0.921)\tLinearAcc@1  27.08 ( 25.31)\tLinearAcc@5  79.17 ( 75.28)\tLoss 8.4285e+00 (8.6045e+00)\n",
            "Epoch: [2][ 80/122]\tTime  1.045 ( 2.019)\tData  0.030 ( 0.809)\tLinearAcc@1  28.12 ( 25.58)\tLinearAcc@5  83.33 ( 75.55)\tLoss 8.3987e+00 (8.5964e+00)\n",
            "Epoch: [2][ 90/122]\tTime  1.127 ( 1.947)\tData  0.000 ( 0.721)\tLinearAcc@1  20.83 ( 25.48)\tLinearAcc@5  78.12 ( 75.82)\tLoss 8.5401e+00 (8.5823e+00)\n",
            "Epoch: [2][100/122]\tTime  1.105 ( 1.838)\tData  0.000 ( 0.653)\tLinearAcc@1  31.25 ( 25.85)\tLinearAcc@5  75.00 ( 75.99)\tLoss 8.4155e+00 (8.5672e+00)\n",
            "Epoch: [2][110/122]\tTime  0.624 ( 1.743)\tData  0.000 ( 0.594)\tLinearAcc@1  26.04 ( 25.99)\tLinearAcc@5  83.33 ( 76.30)\tLoss 8.4570e+00 (8.5633e+00)\n",
            "Epoch: [2][120/122]\tTime  0.622 ( 1.651)\tData  0.000 ( 0.547)\tLinearAcc@1  27.08 ( 25.84)\tLinearAcc@5  80.21 ( 76.39)\tLoss 8.5278e+00 (8.5585e+00)\n",
            "Test: [0/5]\tTime 40.628 (40.628)\tData  0.000 ( 0.000)\tLinearAcc@1  23.96 ( 23.96)\tLinearAcc@5  78.12 ( 78.12)\tLoss 7.2988e+00 (7.2988e+00)\n",
            " * LinearAcc@1 25.208 LinearAcc@5 75.833 Loss 7.329\n",
            "Epoch: [3][  0/122]\tTime 62.953 (62.953)\tData 61.771 (61.771)\tLinearAcc@1  25.00 ( 25.00)\tLinearAcc@5  73.96 ( 73.96)\tLoss 8.2168e+00 (8.2168e+00)\n",
            "Epoch: [3][ 10/122]\tTime  1.181 ( 7.028)\tData  0.000 ( 5.622)\tLinearAcc@1  23.96 ( 28.12)\tLinearAcc@5  71.88 ( 76.80)\tLoss 8.4178e+00 (8.4939e+00)\n",
            "Epoch: [3][ 20/122]\tTime  1.047 ( 4.405)\tData  0.006 ( 3.006)\tLinearAcc@1  40.62 ( 28.72)\tLinearAcc@5  75.00 ( 77.23)\tLoss 8.4080e+00 (8.5060e+00)\n",
            "Epoch: [3][ 30/122]\tTime  1.834 ( 3.371)\tData  0.045 ( 2.043)\tLinearAcc@1  30.21 ( 28.83)\tLinearAcc@5  76.04 ( 77.49)\tLoss 8.4932e+00 (8.4778e+00)\n",
            "Epoch: [3][ 40/122]\tTime  0.964 ( 2.831)\tData  0.012 ( 1.550)\tLinearAcc@1  36.46 ( 28.86)\tLinearAcc@5  81.25 ( 78.15)\tLoss 8.4054e+00 (8.4751e+00)\n",
            "Epoch: [3][ 50/122]\tTime  1.066 ( 2.551)\tData  0.000 ( 1.247)\tLinearAcc@1  26.04 ( 29.17)\tLinearAcc@5  70.83 ( 78.59)\tLoss 8.4734e+00 (8.4663e+00)\n",
            "Epoch: [3][ 60/122]\tTime  1.365 ( 2.356)\tData  0.000 ( 1.043)\tLinearAcc@1  21.88 ( 29.53)\tLinearAcc@5  78.12 ( 78.93)\tLoss 8.5277e+00 (8.4496e+00)\n",
            "Epoch: [3][ 70/122]\tTime  1.274 ( 2.169)\tData  0.002 ( 0.899)\tLinearAcc@1  29.17 ( 29.89)\tLinearAcc@5  81.25 ( 79.14)\tLoss 8.2584e+00 (8.4298e+00)\n",
            "Epoch: [3][ 80/122]\tTime  1.839 ( 2.074)\tData  1.032 ( 0.801)\tLinearAcc@1  21.88 ( 29.73)\tLinearAcc@5  70.83 ( 79.26)\tLoss 8.3188e+00 (8.4135e+00)\n",
            "Epoch: [3][ 90/122]\tTime  1.029 ( 1.994)\tData  0.001 ( 0.714)\tLinearAcc@1  30.21 ( 29.69)\tLinearAcc@5  81.25 ( 79.49)\tLoss 8.2119e+00 (8.4064e+00)\n",
            "Epoch: [3][100/122]\tTime  1.095 ( 1.884)\tData  0.000 ( 0.644)\tLinearAcc@1  33.33 ( 29.60)\tLinearAcc@5  81.25 ( 79.45)\tLoss 8.2442e+00 (8.4033e+00)\n",
            "Epoch: [3][110/122]\tTime  0.627 ( 1.798)\tData  0.000 ( 0.586)\tLinearAcc@1  19.79 ( 29.42)\tLinearAcc@5  71.88 ( 79.23)\tLoss 8.2951e+00 (8.4010e+00)\n",
            "Epoch: [3][120/122]\tTime  0.630 ( 1.701)\tData  0.000 ( 0.540)\tLinearAcc@1  28.12 ( 29.28)\tLinearAcc@5  73.96 ( 79.10)\tLoss 8.1330e+00 (8.3942e+00)\n",
            "Test: [0/5]\tTime 49.383 (49.383)\tData  0.000 ( 0.000)\tLinearAcc@1  34.38 ( 34.38)\tLinearAcc@5  80.21 ( 80.21)\tLoss 7.4884e+00 (7.4884e+00)\n",
            " * LinearAcc@1 26.042 LinearAcc@5 76.042 Loss 7.491\n",
            "Epoch: [4][  0/122]\tTime 63.069 (63.069)\tData 61.256 (61.256)\tLinearAcc@1  33.33 ( 33.33)\tLinearAcc@5  81.25 ( 81.25)\tLoss 8.4964e+00 (8.4964e+00)\n",
            "Epoch: [4][ 10/122]\tTime  1.096 ( 6.868)\tData  0.007 ( 5.575)\tLinearAcc@1  25.00 ( 26.04)\tLinearAcc@5  76.04 ( 76.80)\tLoss 8.2215e+00 (8.3899e+00)\n",
            "Epoch: [4][ 20/122]\tTime  0.946 ( 4.247)\tData  0.015 ( 2.970)\tLinearAcc@1  23.96 ( 26.84)\tLinearAcc@5  75.00 ( 77.88)\tLoss 8.4721e+00 (8.3699e+00)\n",
            "Epoch: [4][ 30/122]\tTime  1.671 ( 3.277)\tData  0.001 ( 2.015)\tLinearAcc@1  23.96 ( 27.08)\tLinearAcc@5  79.17 ( 77.79)\tLoss 8.3916e+00 (8.3646e+00)\n",
            "Epoch: [4][ 40/122]\tTime  0.783 ( 2.782)\tData  0.014 ( 1.563)\tLinearAcc@1  21.88 ( 27.36)\tLinearAcc@5  79.17 ( 78.79)\tLoss 8.2195e+00 (8.3703e+00)\n",
            "Epoch: [4][ 50/122]\tTime  0.950 ( 2.498)\tData  0.005 ( 1.260)\tLinearAcc@1  27.08 ( 27.90)\tLinearAcc@5  75.00 ( 79.19)\tLoss 8.2780e+00 (8.3524e+00)\n",
            "Epoch: [4][ 60/122]\tTime  1.197 ( 2.309)\tData  0.000 ( 1.054)\tLinearAcc@1  38.54 ( 28.35)\tLinearAcc@5  80.21 ( 79.13)\tLoss 8.2568e+00 (8.3437e+00)\n",
            "Epoch: [4][ 70/122]\tTime  1.815 ( 2.137)\tData  0.014 ( 0.907)\tLinearAcc@1  27.08 ( 28.48)\tLinearAcc@5  82.29 ( 79.61)\tLoss 8.2275e+00 (8.3338e+00)\n",
            "Epoch: [4][ 80/122]\tTime  1.115 ( 2.048)\tData  0.016 ( 0.796)\tLinearAcc@1  25.00 ( 28.61)\tLinearAcc@5  83.33 ( 79.91)\tLoss 8.2983e+00 (8.3296e+00)\n",
            "Epoch: [4][ 90/122]\tTime  0.913 ( 1.970)\tData  0.000 ( 0.709)\tLinearAcc@1  23.96 ( 28.78)\tLinearAcc@5  73.96 ( 79.90)\tLoss 8.5823e+00 (8.3239e+00)\n",
            "Epoch: [4][100/122]\tTime  1.177 ( 1.866)\tData  0.000 ( 0.639)\tLinearAcc@1  34.38 ( 29.12)\tLinearAcc@5  79.17 ( 80.03)\tLoss 8.4027e+00 (8.3238e+00)\n",
            "Epoch: [4][110/122]\tTime  0.629 ( 1.770)\tData  0.000 ( 0.582)\tLinearAcc@1  27.08 ( 29.18)\tLinearAcc@5  75.00 ( 79.78)\tLoss 8.2082e+00 (8.3178e+00)\n",
            "Epoch: [4][120/122]\tTime  0.627 ( 1.676)\tData  0.000 ( 0.536)\tLinearAcc@1  42.71 ( 29.45)\tLinearAcc@5  82.29 ( 79.80)\tLoss 8.2663e+00 (8.3149e+00)\n",
            "Test: [0/5]\tTime 43.662 (43.662)\tData  0.000 ( 0.000)\tLinearAcc@1  33.33 ( 33.33)\tLinearAcc@5  83.33 ( 83.33)\tLoss 7.1993e+00 (7.1993e+00)\n",
            " * LinearAcc@1 35.417 LinearAcc@5 83.125 Loss 7.232\n",
            "Epoch: [5][  0/122]\tTime 61.316 (61.316)\tData 60.465 (60.465)\tLinearAcc@1  37.50 ( 37.50)\tLinearAcc@5  84.38 ( 84.38)\tLoss 8.2752e+00 (8.2752e+00)\n",
            "Epoch: [5][ 10/122]\tTime  1.310 ( 6.851)\tData  0.043 ( 5.539)\tLinearAcc@1  32.29 ( 31.63)\tLinearAcc@5  80.21 ( 79.64)\tLoss 8.3974e+00 (8.2861e+00)\n",
            "Epoch: [5][ 20/122]\tTime  1.832 ( 4.174)\tData  0.000 ( 2.932)\tLinearAcc@1  32.29 ( 32.64)\tLinearAcc@5  85.42 ( 80.95)\tLoss 8.3009e+00 (8.2744e+00)\n",
            "Epoch: [5][ 30/122]\tTime  1.368 ( 3.230)\tData  0.009 ( 1.988)\tLinearAcc@1  34.38 ( 32.46)\tLinearAcc@5  83.33 ( 81.99)\tLoss 8.2484e+00 (8.2571e+00)\n",
            "Epoch: [5][ 40/122]\tTime  1.216 ( 2.855)\tData  0.011 ( 1.507)\tLinearAcc@1  32.29 ( 32.67)\tLinearAcc@5  88.54 ( 82.44)\tLoss 8.1875e+00 (8.2497e+00)\n",
            "Epoch: [5][ 50/122]\tTime  0.920 ( 2.580)\tData  0.000 ( 1.213)\tLinearAcc@1  29.17 ( 32.58)\tLinearAcc@5  88.54 ( 82.66)\tLoss 8.1987e+00 (8.2453e+00)\n",
            "Epoch: [5][ 60/122]\tTime  1.329 ( 2.404)\tData  0.000 ( 1.016)\tLinearAcc@1  25.00 ( 32.60)\tLinearAcc@5  80.21 ( 82.77)\tLoss 8.1489e+00 (8.2368e+00)\n",
            "Epoch: [5][ 70/122]\tTime  2.072 ( 2.247)\tData  0.000 ( 0.874)\tLinearAcc@1  28.12 ( 32.81)\tLinearAcc@5  84.38 ( 82.61)\tLoss 8.3013e+00 (8.2257e+00)\n",
            "Epoch: [5][ 80/122]\tTime  1.024 ( 2.134)\tData  0.000 ( 0.767)\tLinearAcc@1  31.25 ( 33.13)\tLinearAcc@5  78.12 ( 82.77)\tLoss 8.5460e+00 (8.2252e+00)\n",
            "Epoch: [5][ 90/122]\tTime  1.160 ( 2.059)\tData  0.000 ( 0.684)\tLinearAcc@1  38.54 ( 33.39)\tLinearAcc@5  89.58 ( 82.85)\tLoss 8.0778e+00 (8.2139e+00)\n",
            "Epoch: [5][100/122]\tTime  1.120 ( 1.973)\tData  0.000 ( 0.616)\tLinearAcc@1  29.17 ( 33.53)\tLinearAcc@5  81.25 ( 82.84)\tLoss 8.1327e+00 (8.2047e+00)\n",
            "Epoch: [5][110/122]\tTime  0.628 ( 1.852)\tData  0.000 ( 0.561)\tLinearAcc@1  42.71 ( 33.53)\tLinearAcc@5  85.42 ( 82.82)\tLoss 8.1208e+00 (8.2067e+00)\n",
            "Epoch: [5][120/122]\tTime  0.628 ( 1.751)\tData  0.000 ( 0.517)\tLinearAcc@1  39.58 ( 33.60)\tLinearAcc@5  79.17 ( 82.82)\tLoss 8.4016e+00 (8.2112e+00)\n",
            "Test: [0/5]\tTime 42.549 (42.549)\tData  0.000 ( 0.000)\tLinearAcc@1  42.71 ( 42.71)\tLinearAcc@5  90.62 ( 90.62)\tLoss 7.1568e+00 (7.1568e+00)\n",
            " * LinearAcc@1 35.208 LinearAcc@5 85.000 Loss 7.212\n",
            "Epoch: [6][  0/122]\tTime 62.776 (62.776)\tData 61.317 (61.317)\tLinearAcc@1  45.83 ( 45.83)\tLinearAcc@5  87.50 ( 87.50)\tLoss 8.1445e+00 (8.1445e+00)\n",
            "Epoch: [6][ 10/122]\tTime  0.832 ( 7.287)\tData  0.009 ( 5.969)\tLinearAcc@1  32.29 ( 35.70)\tLinearAcc@5  84.38 ( 83.90)\tLoss 8.2605e+00 (8.1503e+00)\n",
            "Epoch: [6][ 20/122]\tTime  0.965 ( 4.477)\tData  0.002 ( 3.154)\tLinearAcc@1  46.88 ( 36.81)\tLinearAcc@5  87.50 ( 83.78)\tLoss 7.9810e+00 (8.1433e+00)\n",
            "Epoch: [6][ 30/122]\tTime  1.044 ( 3.470)\tData  0.001 ( 2.138)\tLinearAcc@1  34.38 ( 36.90)\tLinearAcc@5  83.33 ( 83.67)\tLoss 8.0946e+00 (8.1499e+00)\n",
            "Epoch: [6][ 40/122]\tTime  1.877 ( 2.886)\tData  0.003 ( 1.617)\tLinearAcc@1  37.50 ( 36.92)\tLinearAcc@5  86.46 ( 83.82)\tLoss 8.1383e+00 (8.1377e+00)\n",
            "Epoch: [6][ 50/122]\tTime  0.989 ( 2.567)\tData  0.000 ( 1.303)\tLinearAcc@1  32.29 ( 36.38)\tLinearAcc@5  86.46 ( 83.48)\tLoss 8.0486e+00 (8.1314e+00)\n",
            "Epoch: [6][ 60/122]\tTime  1.010 ( 2.363)\tData  0.009 ( 1.092)\tLinearAcc@1  43.75 ( 36.25)\tLinearAcc@5  84.38 ( 83.59)\tLoss 8.1144e+00 (8.1278e+00)\n",
            "Epoch: [6][ 70/122]\tTime  1.754 ( 2.210)\tData  0.003 ( 0.939)\tLinearAcc@1  29.17 ( 36.18)\tLinearAcc@5  84.38 ( 83.93)\tLoss 8.1318e+00 (8.1269e+00)\n",
            "Epoch: [6][ 80/122]\tTime  0.964 ( 2.073)\tData  0.000 ( 0.824)\tLinearAcc@1  25.00 ( 35.84)\tLinearAcc@5  79.17 ( 83.81)\tLoss 8.0943e+00 (8.1219e+00)\n",
            "Epoch: [6][ 90/122]\tTime  1.134 ( 1.995)\tData  0.000 ( 0.734)\tLinearAcc@1  35.42 ( 36.29)\tLinearAcc@5  76.04 ( 83.65)\tLoss 8.1463e+00 (8.1205e+00)\n",
            "Epoch: [6][100/122]\tTime  0.995 ( 1.886)\tData  0.000 ( 0.662)\tLinearAcc@1  28.12 ( 36.03)\tLinearAcc@5  79.17 ( 83.47)\tLoss 8.0589e+00 (8.1187e+00)\n",
            "Epoch: [6][110/122]\tTime  0.624 ( 1.791)\tData  0.000 ( 0.602)\tLinearAcc@1  35.42 ( 35.84)\tLinearAcc@5  86.46 ( 83.38)\tLoss 7.9633e+00 (8.1161e+00)\n",
            "Epoch: [6][120/122]\tTime  0.625 ( 1.695)\tData  0.000 ( 0.555)\tLinearAcc@1  43.75 ( 35.92)\tLinearAcc@5  85.42 ( 83.49)\tLoss 8.1206e+00 (8.1113e+00)\n",
            "Test: [0/5]\tTime 45.457 (45.457)\tData  0.000 ( 0.000)\tLinearAcc@1  41.67 ( 41.67)\tLinearAcc@5  87.50 ( 87.50)\tLoss 7.0993e+00 (7.0993e+00)\n",
            " * LinearAcc@1 41.250 LinearAcc@5 84.792 Loss 7.115\n",
            "Epoch: [7][  0/122]\tTime 61.654 (61.654)\tData 60.021 (60.021)\tLinearAcc@1  33.33 ( 33.33)\tLinearAcc@5  85.42 ( 85.42)\tLoss 8.1153e+00 (8.1153e+00)\n",
            "Epoch: [7][ 10/122]\tTime  1.152 ( 7.061)\tData  0.004 ( 5.996)\tLinearAcc@1  36.46 ( 35.04)\tLinearAcc@5  83.33 ( 84.09)\tLoss 8.2075e+00 (8.0815e+00)\n",
            "Epoch: [7][ 20/122]\tTime  1.086 ( 4.331)\tData  0.015 ( 3.144)\tLinearAcc@1  33.33 ( 35.66)\tLinearAcc@5  76.04 ( 83.63)\tLoss 8.1796e+00 (8.0837e+00)\n",
            "Epoch: [7][ 30/122]\tTime  1.227 ( 3.420)\tData  0.005 ( 2.135)\tLinearAcc@1  30.21 ( 35.92)\tLinearAcc@5  85.42 ( 83.84)\tLoss 8.2259e+00 (8.0852e+00)\n",
            "Epoch: [7][ 40/122]\tTime  1.225 ( 2.993)\tData  0.012 ( 1.618)\tLinearAcc@1  40.62 ( 36.56)\tLinearAcc@5  84.38 ( 84.53)\tLoss 8.1339e+00 (8.0851e+00)\n",
            "Epoch: [7][ 50/122]\tTime  1.917 ( 2.650)\tData  0.051 ( 1.303)\tLinearAcc@1  35.42 ( 36.38)\tLinearAcc@5  82.29 ( 84.78)\tLoss 8.2203e+00 (8.0839e+00)\n",
            "Epoch: [7][ 60/122]\tTime  0.967 ( 2.399)\tData  0.000 ( 1.091)\tLinearAcc@1  37.50 ( 36.08)\tLinearAcc@5  87.50 ( 84.46)\tLoss 8.0701e+00 (8.0848e+00)\n",
            "Epoch: [7][ 70/122]\tTime  1.072 ( 2.254)\tData  0.000 ( 0.937)\tLinearAcc@1  31.25 ( 36.02)\tLinearAcc@5  81.25 ( 84.80)\tLoss 8.0519e+00 (8.0799e+00)\n",
            "Epoch: [7][ 80/122]\tTime  1.717 ( 2.143)\tData  0.006 ( 0.823)\tLinearAcc@1  35.42 ( 36.50)\tLinearAcc@5  83.33 ( 84.77)\tLoss 8.1479e+00 (8.0725e+00)\n",
            "Epoch: [7][ 90/122]\tTime  1.431 ( 2.032)\tData  0.000 ( 0.733)\tLinearAcc@1  39.58 ( 36.76)\tLinearAcc@5  89.58 ( 84.86)\tLoss 8.1339e+00 (8.0732e+00)\n",
            "Epoch: [7][100/122]\tTime  0.694 ( 1.943)\tData  0.000 ( 0.660)\tLinearAcc@1  36.46 ( 36.97)\tLinearAcc@5  88.54 ( 84.93)\tLoss 8.0296e+00 (8.0664e+00)\n",
            "Epoch: [7][110/122]\tTime  0.625 ( 1.825)\tData  0.000 ( 0.601)\tLinearAcc@1  38.54 ( 37.15)\tLinearAcc@5  84.38 ( 85.07)\tLoss 7.8769e+00 (8.0645e+00)\n",
            "Epoch: [7][120/122]\tTime  0.627 ( 1.726)\tData  0.000 ( 0.554)\tLinearAcc@1  40.62 ( 37.47)\tLinearAcc@5  86.46 ( 85.10)\tLoss 8.1493e+00 (8.0609e+00)\n",
            "Test: [0/5]\tTime 46.229 (46.229)\tData  0.000 ( 0.000)\tLinearAcc@1  44.79 ( 44.79)\tLinearAcc@5  89.58 ( 89.58)\tLoss 7.0835e+00 (7.0835e+00)\n",
            " * LinearAcc@1 45.000 LinearAcc@5 85.833 Loss 7.127\n",
            "Epoch: [8][  0/122]\tTime 62.396 (62.396)\tData 61.429 (61.429)\tLinearAcc@1  44.79 ( 44.79)\tLinearAcc@5  89.58 ( 89.58)\tLoss 8.0259e+00 (8.0259e+00)\n",
            "Epoch: [8][ 10/122]\tTime  0.999 ( 6.923)\tData  0.000 ( 5.590)\tLinearAcc@1  41.67 ( 39.11)\tLinearAcc@5  89.58 ( 85.42)\tLoss 7.9834e+00 (8.0664e+00)\n",
            "Epoch: [8][ 20/122]\tTime  1.098 ( 4.290)\tData  0.000 ( 2.929)\tLinearAcc@1  35.42 ( 38.49)\tLinearAcc@5  83.33 ( 86.06)\tLoss 7.9347e+00 (8.0556e+00)\n",
            "Epoch: [8][ 30/122]\tTime  1.659 ( 3.248)\tData  0.000 ( 1.985)\tLinearAcc@1  41.67 ( 39.18)\tLinearAcc@5  85.42 ( 86.32)\tLoss 8.1334e+00 (8.0605e+00)\n",
            "Epoch: [8][ 40/122]\tTime  1.273 ( 2.789)\tData  0.000 ( 1.525)\tLinearAcc@1  39.58 ( 39.28)\tLinearAcc@5  85.42 ( 86.46)\tLoss 8.1046e+00 (8.0380e+00)\n",
            "Epoch: [8][ 50/122]\tTime  1.170 ( 2.538)\tData  0.000 ( 1.231)\tLinearAcc@1  37.50 ( 39.36)\tLinearAcc@5  88.54 ( 86.56)\tLoss 7.9755e+00 (8.0358e+00)\n",
            "Epoch: [8][ 60/122]\tTime  1.013 ( 2.350)\tData  0.000 ( 1.030)\tLinearAcc@1  44.79 ( 39.29)\tLinearAcc@5  93.75 ( 86.48)\tLoss 7.8372e+00 (8.0239e+00)\n",
            "Epoch: [8][ 70/122]\tTime  1.925 ( 2.197)\tData  0.048 ( 0.887)\tLinearAcc@1  43.75 ( 39.16)\tLinearAcc@5  91.67 ( 86.41)\tLoss 7.9449e+00 (8.0175e+00)\n",
            "Epoch: [8][ 80/122]\tTime  1.175 ( 2.078)\tData  0.000 ( 0.778)\tLinearAcc@1  36.46 ( 38.76)\tLinearAcc@5  84.38 ( 86.50)\tLoss 7.9465e+00 (8.0135e+00)\n",
            "Epoch: [8][ 90/122]\tTime  0.940 ( 2.015)\tData  0.000 ( 0.694)\tLinearAcc@1  40.62 ( 38.83)\tLinearAcc@5  83.33 ( 86.24)\tLoss 8.0851e+00 (8.0168e+00)\n",
            "Epoch: [8][100/122]\tTime  1.244 ( 1.925)\tData  0.000 ( 0.625)\tLinearAcc@1  33.33 ( 38.67)\tLinearAcc@5  86.46 ( 86.21)\tLoss 8.0040e+00 (8.0188e+00)\n",
            "Epoch: [8][110/122]\tTime  0.624 ( 1.811)\tData  0.000 ( 0.569)\tLinearAcc@1  36.46 ( 38.72)\tLinearAcc@5  82.29 ( 86.17)\tLoss 8.1444e+00 (8.0135e+00)\n",
            "Epoch: [8][120/122]\tTime  0.629 ( 1.713)\tData  0.000 ( 0.524)\tLinearAcc@1  37.50 ( 38.91)\tLinearAcc@5  86.46 ( 86.24)\tLoss 8.0527e+00 (8.0089e+00)\n",
            "Test: [0/5]\tTime 42.534 (42.534)\tData  0.000 ( 0.000)\tLinearAcc@1  42.71 ( 42.71)\tLinearAcc@5  90.62 ( 90.62)\tLoss 7.0083e+00 (7.0083e+00)\n",
            " * LinearAcc@1 41.667 LinearAcc@5 87.292 Loss 7.053\n",
            "Epoch: [9][  0/122]\tTime 67.120 (67.120)\tData 65.448 (65.448)\tLinearAcc@1  32.29 ( 32.29)\tLinearAcc@5  88.54 ( 88.54)\tLoss 8.2109e+00 (8.2109e+00)\n",
            "Epoch: [9][ 10/122]\tTime  0.998 ( 7.063)\tData  0.002 ( 5.956)\tLinearAcc@1  41.67 ( 40.62)\tLinearAcc@5  86.46 ( 87.31)\tLoss 7.8024e+00 (8.0377e+00)\n",
            "Epoch: [9][ 20/122]\tTime  1.022 ( 4.394)\tData  0.006 ( 3.158)\tLinearAcc@1  38.54 ( 39.63)\tLinearAcc@5  84.38 ( 86.26)\tLoss 8.0531e+00 (8.0328e+00)\n",
            "Epoch: [9][ 30/122]\tTime  0.898 ( 3.445)\tData  0.003 ( 2.141)\tLinearAcc@1  39.58 ( 39.89)\tLinearAcc@5  83.33 ( 85.79)\tLoss 7.8875e+00 (8.0031e+00)\n",
            "Epoch: [9][ 40/122]\tTime  1.934 ( 2.954)\tData  0.000 ( 1.619)\tLinearAcc@1  44.79 ( 40.29)\tLinearAcc@5  81.25 ( 85.82)\tLoss 7.9659e+00 (7.9958e+00)\n",
            "Epoch: [9][ 50/122]\tTime  1.034 ( 2.577)\tData  0.012 ( 1.304)\tLinearAcc@1  51.04 ( 40.24)\tLinearAcc@5  89.58 ( 85.97)\tLoss 8.0022e+00 (7.9972e+00)\n",
            "Epoch: [9][ 60/122]\tTime  1.250 ( 2.381)\tData  0.000 ( 1.091)\tLinearAcc@1  35.42 ( 40.15)\tLinearAcc@5  83.33 ( 85.95)\tLoss 7.8833e+00 (7.9975e+00)\n",
            "Epoch: [9][ 70/122]\tTime  1.084 ( 2.242)\tData  0.000 ( 0.937)\tLinearAcc@1  34.38 ( 39.72)\tLinearAcc@5  86.46 ( 86.02)\tLoss 8.0160e+00 (7.9834e+00)\n",
            "Epoch: [9][ 80/122]\tTime  2.137 ( 2.133)\tData  0.000 ( 0.823)\tLinearAcc@1  45.83 ( 40.21)\tLinearAcc@5  79.17 ( 86.15)\tLoss 7.9518e+00 (7.9843e+00)\n",
            "Epoch: [9][ 90/122]\tTime  1.971 ( 2.070)\tData  0.000 ( 0.755)\tLinearAcc@1  35.42 ( 40.04)\tLinearAcc@5  80.21 ( 86.05)\tLoss 7.9925e+00 (7.9808e+00)\n",
            "Epoch: [9][100/122]\tTime  0.784 ( 1.967)\tData  0.000 ( 0.680)\tLinearAcc@1  46.88 ( 40.37)\tLinearAcc@5  92.71 ( 86.01)\tLoss 7.9219e+00 (7.9791e+00)\n",
            "Epoch: [9][110/122]\tTime  0.491 ( 1.860)\tData  0.000 ( 0.619)\tLinearAcc@1  42.71 ( 40.43)\tLinearAcc@5  88.54 ( 86.23)\tLoss 8.0531e+00 (7.9785e+00)\n",
            "Epoch: [9][120/122]\tTime  0.628 ( 1.759)\tData  0.000 ( 0.570)\tLinearAcc@1  36.46 ( 40.30)\tLinearAcc@5  84.38 ( 86.24)\tLoss 8.0402e+00 (7.9758e+00)\n",
            "Test: [0/5]\tTime 45.358 (45.358)\tData  0.000 ( 0.000)\tLinearAcc@1  44.79 ( 44.79)\tLinearAcc@5  89.58 ( 89.58)\tLoss 7.0140e+00 (7.0140e+00)\n",
            " * LinearAcc@1 42.292 LinearAcc@5 87.083 Loss 7.029\n"
          ]
        }
      ]
    },
    {
      "cell_type": "markdown",
      "source": [
        "Evaluation & comparison"
      ],
      "metadata": {
        "id": "j_deC8piwwX6"
      }
    },
    {
      "cell_type": "code",
      "source": [
        "model, linear_classifier, train_loader, test_loader = load_model_and_data('context_encoder','imagenet100')\n",
        "Imagenet10Context_encoder_accuracy = evaluate_accuracy(model, linear_classifier, train_loader, test_loader)"
      ],
      "metadata": {
        "colab": {
          "base_uri": "https://localhost:8080/"
        },
        "id": "IiTiDfOnawng",
        "outputId": "45d4867d-417b-4523-896d-f7e2a8caff71"
      },
      "execution_count": null,
      "outputs": [
        {
          "output_type": "stream",
          "name": "stderr",
          "text": [
            "/usr/local/lib/python3.10/dist-packages/torch/utils/data/dataloader.py:557: UserWarning: This DataLoader will create 4 worker processes in total. Our suggested max number of worker in current system is 2, which is smaller than what this DataLoader is going to create. Please be aware that excessive worker creation might get DataLoader running slow or even freeze, lower the worker number to avoid potential slowness/freeze if necessary.\n",
            "  warnings.warn(_create_warning_msg(\n"
          ]
        },
        {
          "output_type": "stream",
          "name": "stdout",
          "text": [
            "Train Set\n",
            "Top 1 Accuracy: 25.642553190190743, Top 5 Accuracy: 73.19999999610414\n",
            "\n",
            "Test Set\n",
            "Top 1 Accuracy: 27.200000076293946, Top 5 Accuracy: 72.80000054931641\n",
            "\n"
          ]
        }
      ]
    },
    {
      "cell_type": "code",
      "source": [
        "model, linear_classifier, train_loader, test_loader = load_model_and_data('rotation','imagenet100')\n",
        "Imagenet10Rotation_accuracy = evaluate_accuracy(model, linear_classifier, train_loader, test_loader)"
      ],
      "metadata": {
        "colab": {
          "base_uri": "https://localhost:8080/"
        },
        "id": "2q6K4_-sfMFg",
        "outputId": "ce40b93a-5f1e-410e-bbf2-e70dee538b41"
      },
      "execution_count": null,
      "outputs": [
        {
          "output_type": "stream",
          "name": "stderr",
          "text": [
            "/usr/local/lib/python3.10/dist-packages/torch/utils/data/dataloader.py:557: UserWarning: This DataLoader will create 4 worker processes in total. Our suggested max number of worker in current system is 2, which is smaller than what this DataLoader is going to create. Please be aware that excessive worker creation might get DataLoader running slow or even freeze, lower the worker number to avoid potential slowness/freeze if necessary.\n",
            "  warnings.warn(_create_warning_msg(\n"
          ]
        },
        {
          "output_type": "stream",
          "name": "stdout",
          "text": [
            "Train Set\n",
            "Top 1 Accuracy: 52.77446810068983, Top 5 Accuracy: 90.40851062011718\n",
            "\n",
            "Test Set\n",
            "Top 1 Accuracy: 58.399999572753906, Top 5 Accuracy: 91.60000006103516\n",
            "\n"
          ]
        }
      ]
    },
    {
      "cell_type": "code",
      "source": [
        "model, linear_classifier, train_loader, test_loader = load_model_and_data('simclr','imagenet100')\n",
        "Imagenet10SimCLR_accuracy = evaluate_accuracy(model, linear_classifier, train_loader, test_loader)"
      ],
      "metadata": {
        "colab": {
          "base_uri": "https://localhost:8080/"
        },
        "id": "B3CEumkVdjqE",
        "outputId": "9d682f91-60e0-4668-82b2-f67a5389bce0"
      },
      "execution_count": null,
      "outputs": [
        {
          "output_type": "stream",
          "name": "stderr",
          "text": [
            "/usr/local/lib/python3.10/dist-packages/torch/utils/data/dataloader.py:557: UserWarning: This DataLoader will create 4 worker processes in total. Our suggested max number of worker in current system is 2, which is smaller than what this DataLoader is going to create. Please be aware that excessive worker creation might get DataLoader running slow or even freeze, lower the worker number to avoid potential slowness/freeze if necessary.\n",
            "  warnings.warn(_create_warning_msg(\n"
          ]
        },
        {
          "output_type": "stream",
          "name": "stdout",
          "text": [
            "Train Set\n",
            "Top 1 Accuracy: 41.09787234237346, Top 5 Accuracy: 86.80000002727103\n",
            "\n",
            "Test Set\n",
            "Top 1 Accuracy: 42.59999969482422, Top 5 Accuracy: 86.7999990234375\n",
            "\n"
          ]
        }
      ]
    },
    {
      "cell_type": "code",
      "source": [
        "import numpy as np\n",
        "import matplotlib.pyplot as plt\n",
        "\n",
        "plt.figure()\n",
        "\n",
        "labels = ['Context_Encoder', 'RotationPrediction', 'SimCLR']\n",
        "bar_width = 0.25\n",
        "x = np.arange(len(labels))\n",
        "plt.bar(x - bar_width, [Imagenet10Context_encoder_accuracy[0], Imagenet10Rotation_accuracy[0], Imagenet10SimCLR_accuracy[0]], width=bar_width, label='Top 1 accuracy')\n",
        "plt.bar(x, [Imagenet10Context_encoder_accuracy[1], Imagenet10Rotation_accuracy[1], Imagenet10SimCLR_accuracy[1]], width=bar_width, label='top 5 accuracy')\n",
        "plt.xticks(x, labels)\n",
        "plt.legend()\n",
        "plt.xlabel('Task')\n",
        "plt.ylabel('Accuracy %')\n",
        "plt.title('Imagenet10 - Comparison between the 3 demos\\' accuracies')\n",
        "\n",
        "plt.show()"
      ],
      "metadata": {
        "id": "bKJu9_Hcxwwn",
        "colab": {
          "base_uri": "https://localhost:8080/",
          "height": 472
        },
        "outputId": "a68820a5-473b-41aa-cc9b-01ff914b4ab8"
      },
      "execution_count": null,
      "outputs": [
        {
          "output_type": "display_data",
          "data": {
            "text/plain": [
              "<Figure size 640x480 with 1 Axes>"
            ],
            "image/png": "[encoded data removed]"
          },
          "metadata": {}
        }
      ]
    },
    {
      "cell_type": "markdown",
      "source": [
        "**Question 5 :** We implement relative patch position prediction\n",
        "\n",
        "*We only show the best model for Imagenet10, and the best model for Cifar10 (the report contains more informations about the other models that have been tried)*"
      ],
      "metadata": {
        "id": "jlvCCCdfyW_4"
      }
    },
    {
      "cell_type": "markdown",
      "source": [
        "Imagenet10"
      ],
      "metadata": {
        "id": "7z4d16pCy-0E"
      }
    },
    {
      "cell_type": "code",
      "source": [
        "import torch\n",
        "import torch.nn as nn\n",
        "import torch.optim as optim\n",
        "from torch.utils.data import Dataset, DataLoader\n",
        "import torchvision.transforms as transforms\n",
        "from PIL import Image\n",
        "import os\n",
        "import numpy as np\n",
        "import torchvision.models as models\n",
        "\n",
        "class RelativePatchDataset(Dataset):\n",
        "    def __init__(self, root_dir, transform=None):\n",
        "        self.root_dir = root_dir\n",
        "        self.transform = transform\n",
        "        self.image_paths = []\n",
        "        self.classes = sorted(os.listdir(root_dir))\n",
        "\n",
        "        for class_dir in self.classes:\n",
        "            class_path = os.path.join(root_dir, class_dir)\n",
        "            if os.path.isdir(class_path):\n",
        "                for img_file in sorted(os.listdir(class_path)):\n",
        "                    img_path = os.path.join(class_path, img_file)\n",
        "                    if os.path.isfile(img_path):\n",
        "                        self.image_paths.append((img_path, class_dir))\n",
        "\n",
        "    def __len__(self):\n",
        "        return len(self.image_paths)\n",
        "\n",
        "    def __getitem__(self, idx):\n",
        "        img_path, class_name = self.image_paths[idx]\n",
        "        img = Image.open(img_path).convert('RGB')\n",
        "        img1, img2, label = self.get_relative_patch(img)\n",
        "        if self.transform:\n",
        "            img1 = self.transform(img1)\n",
        "            img2 = self.transform(img2)\n",
        "        return (img1, img2), label\n",
        "\n",
        "    def get_relative_patch(self, img):\n",
        "        width, height = img.size\n",
        "        patch_size = (height // 4, width // 4)\n",
        "\n",
        "        center_x = np.random.randint(patch_size[1] // 2, width - patch_size[1] // 2)\n",
        "        center_y = np.random.randint(patch_size[0] // 2, height - patch_size[0] // 2)\n",
        "        left_x = center_x - patch_size[1] // 2\n",
        "        right_x = center_x + patch_size[1] // 2\n",
        "        top_y = center_y - patch_size[0] // 2\n",
        "        bottom_y = center_y + patch_size[0] // 2\n",
        "\n",
        "        patch1 = img.crop((left_x, top_y, right_x, bottom_y))\n",
        "\n",
        "        positions = [(0, -1), (1, -1), (1, 0), (1, 1), (0, 1), (-1, 1), (-1, 0), (-1, -1)]\n",
        "        rel_pos = positions[np.random.randint(len(positions))]\n",
        "\n",
        "        center_x2 = center_x + rel_pos[0] * patch_size[1]\n",
        "        center_y2 = center_y + rel_pos[1] * patch_size[0]\n",
        "        center_x2 = max(patch_size[1] // 2, min(width - patch_size[1] // 2, center_x2))\n",
        "        center_y2 = max(patch_size[0] // 2, min(height - patch_size[0] // 2, center_y2))\n",
        "\n",
        "        left_x2 = center_x2 - patch_size[1] // 2\n",
        "        right_x2 = center_x2 + patch_size[1] // 2\n",
        "        top_y2 = center_y2 - patch_size[0] // 2\n",
        "        bottom_y2 = center_y2 + patch_size[0] // 2\n",
        "\n",
        "        patch2 = img.crop((left_x2, top_y2, right_x2, bottom_y2))\n",
        "\n",
        "        label = positions.index(rel_pos)\n",
        "\n",
        "        return patch1, patch2, label\n",
        "\n",
        "class PatchPredictionModel(nn.Module):\n",
        "    def __init__(self):\n",
        "        super(PatchPredictionModel, self).__init__()\n",
        "        self.resnet = models.resnet18(pretrained=True)\n",
        "        #We modify resnet input layer to take 6 channels so we can give it the concatenated patches\n",
        "        self.resnet.conv1 = nn.Conv2d(6, 64, kernel_size=(7, 7), stride=(2, 2), padding=(3, 3), bias=False)\n",
        "        self.resnet.fc = nn.Linear(in_features=512, out_features=8, bias=True)\n",
        "\n",
        "    def forward(self, x):\n",
        "        return self.resnet(x)\n",
        "\n",
        "def train(model, train_loader, criterion, optimizer, device):\n",
        "    model.train()\n",
        "    total_loss = 0.0\n",
        "    for (img1, img2), labels in train_loader:\n",
        "        images = torch.cat((img1, img2), dim=1)\n",
        "        images, labels = images.to(device), labels.to(device)\n",
        "        optimizer.zero_grad()\n",
        "        outputs = model(images)\n",
        "        loss = criterion(outputs, labels)\n",
        "        loss.backward()\n",
        "        optimizer.step()\n",
        "        total_loss += loss.item()\n",
        "    return total_loss / len(train_loader)\n",
        "\n",
        "def evaluate(model, val_loader, criterion, device):\n",
        "    model.eval()\n",
        "    total_loss = 0.0\n",
        "    correct_top1 = 0\n",
        "    correct_top5 = 0\n",
        "    with torch.no_grad():\n",
        "        for (img1, img2), labels in val_loader:\n",
        "            images = torch.cat((img1, img2), dim=1)\n",
        "            images, labels = images.to(device), labels.to(device)\n",
        "            outputs = model(images)\n",
        "            loss = criterion(outputs, labels)\n",
        "            total_loss += loss.item()\n",
        "            _, preds = torch.topk(outputs, 5, dim=1)\n",
        "            correct_top1 += (preds[:, 0] == labels).float().sum().item()\n",
        "            correct_top5 += (preds == labels.unsqueeze(1)).float().sum().item()\n",
        "\n",
        "    return total_loss / len(val_loader), correct_top1 / len(val_loader.dataset), correct_top5 / len(val_loader.dataset)\n",
        "\n",
        "\n",
        "device = torch.device(\"cuda\" if torch.cuda.is_available() else \"cpu\")\n",
        "\n",
        "transform = transforms.Compose([\n",
        "    #tentative de modifications supplémentaires, ne marche pas bien, à tester plus profondément\n",
        "    #transforms.RandomHorizontalFlip(),\n",
        "    #transforms.RandomRotation(degrees=10),\n",
        "    #transforms.ColorJitter(brightness=0.2, contrast=0.2, saturation=0.2, hue=0.2),\n",
        "    transforms.Resize((64, 64)),\n",
        "    transforms.ToTensor(),\n",
        "])\n",
        "\n",
        "train_dataset = RelativePatchDataset('/content/cs294-158-ssl/data/imagenet100/train', transform=transform)\n",
        "val_dataset = RelativePatchDataset('/content/cs294-158-ssl/data/imagenet100/val', transform=transform)\n",
        "test_data = RelativePatchDataset('/content/cs294-158-ssl/data/imagenet100/test', transform=transform)\n",
        "\n",
        "train_loader = DataLoader(train_dataset, batch_size=32, shuffle=True)\n",
        "val_loader = DataLoader(val_dataset, batch_size=32, shuffle=False)\n",
        "test_loader = DataLoader(val_dataset, batch_size=32, shuffle=False)\n",
        "\n",
        "model = PatchPredictionModel().to(device)\n",
        "criterion = nn.CrossEntropyLoss()\n",
        "optimizer = optim.Adam(model.parameters(), lr=0.0001)\n",
        "\n",
        "num_epochs = 10\n",
        "for epoch in range(num_epochs):\n",
        "    train_loss = train(model, train_loader, criterion, optimizer, device)\n",
        "    val_loss, top1_accuracy, top5_accuracy = evaluate(model, val_loader, criterion, device)\n",
        "\n",
        "    print(f'Epoch {epoch+1}/{num_epochs}, '\n",
        "          f'Train Loss: {train_loss:.4f}, '\n",
        "          f'Validation Loss: {val_loss:.4f}, '\n",
        "          f'Top-1 Accuracy: {top1_accuracy:.4f}, '\n",
        "          f'Top-5 Accuracy: {top5_accuracy:.4f}')\n",
        "\n"
      ],
      "metadata": {
        "id": "VM9TDkYFyeIj",
        "colab": {
          "base_uri": "https://localhost:8080/"
        },
        "outputId": "43fd728c-1beb-4568-85eb-2a47e0a80a83"
      },
      "execution_count": null,
      "outputs": [
        {
          "output_type": "stream",
          "name": "stdout",
          "text": [
            "Epoch 1/10, Train Loss: 2.2046, Validation Loss: 2.1184, Top-1 Accuracy: 0.1660, Top-5 Accuracy: 0.6840\n",
            "Epoch 2/10, Train Loss: 2.0607, Validation Loss: 2.0246, Top-1 Accuracy: 0.1840, Top-5 Accuracy: 0.7420\n",
            "Epoch 3/10, Train Loss: 1.9951, Validation Loss: 1.9661, Top-1 Accuracy: 0.2100, Top-5 Accuracy: 0.7580\n",
            "Epoch 4/10, Train Loss: 1.9439, Validation Loss: 1.9148, Top-1 Accuracy: 0.2380, Top-5 Accuracy: 0.8160\n",
            "Epoch 5/10, Train Loss: 1.9030, Validation Loss: 1.8773, Top-1 Accuracy: 0.2400, Top-5 Accuracy: 0.8320\n",
            "Epoch 6/10, Train Loss: 1.8494, Validation Loss: 1.7962, Top-1 Accuracy: 0.2840, Top-5 Accuracy: 0.8800\n",
            "Epoch 7/10, Train Loss: 1.8290, Validation Loss: 1.7689, Top-1 Accuracy: 0.2820, Top-5 Accuracy: 0.8680\n",
            "Epoch 8/10, Train Loss: 1.7759, Validation Loss: 1.7428, Top-1 Accuracy: 0.3220, Top-5 Accuracy: 0.8680\n",
            "Epoch 9/10, Train Loss: 1.7582, Validation Loss: 1.6773, Top-1 Accuracy: 0.3440, Top-5 Accuracy: 0.8980\n",
            "Epoch 10/10, Train Loss: 1.7264, Validation Loss: 1.7246, Top-1 Accuracy: 0.2740, Top-5 Accuracy: 0.8840\n"
          ]
        }
      ]
    },
    {
      "cell_type": "markdown",
      "source": [
        "We execute the model on the test set"
      ],
      "metadata": {
        "id": "8AagVP8Mzkye"
      }
    },
    {
      "cell_type": "code",
      "source": [
        "test_loss, Patch_IMAGENET_top1_accuracy, Patch_IMAGENET_top5_accuracy = evaluate(model, test_loader, criterion, device)\n",
        "print('Relative patch position prediction \\nTOP 1 accuracy : ',Patch_IMAGENET_top1_accuracy,'\\nTOP 5 accuracy : ',Patch_IMAGENET_top5_accuracy)"
      ],
      "metadata": {
        "id": "AQ0E1ILCz4Cn",
        "colab": {
          "base_uri": "https://localhost:8080/"
        },
        "outputId": "ab1e0e37-8153-4a75-857d-0b4c5726ff53"
      },
      "execution_count": null,
      "outputs": [
        {
          "output_type": "stream",
          "name": "stdout",
          "text": [
            "Relative patch position prediction \n",
            "TOP 1 accuracy :  0.368 \n",
            "TOP 5 accuracy :  0.914\n"
          ]
        }
      ]
    },
    {
      "cell_type": "markdown",
      "source": [
        "Cifar10"
      ],
      "metadata": {
        "id": "zVMVVizGz5h8"
      }
    },
    {
      "cell_type": "code",
      "source": [
        "import torch\n",
        "import torch.nn as nn\n",
        "import torch.optim as optim\n",
        "from torch.utils.data import DataLoader\n",
        "import torchvision.transforms as transforms\n",
        "from torchvision.datasets import CIFAR10\n",
        "from PIL import Image\n",
        "from torch.utils.data import random_split\n",
        "\n",
        "class RelativePatchDataset(CIFAR10):\n",
        "    def __init__(self, root, train=True, transform=None, target_transform=None, download=False):\n",
        "        super(RelativePatchDataset, self).__init__(root, train=train, transform=transform, target_transform=target_transform, download=download)\n",
        "\n",
        "    def __getitem__(self, index):\n",
        "        img, _ = self.data[index], self.targets[index]\n",
        "        img = Image.fromarray(img)\n",
        "        img1, img2, label = self.get_relative_patch(img)\n",
        "        if self.transform is not None:\n",
        "            img1 = self.transform(img1)\n",
        "            img2 = self.transform(img2)\n",
        "        return (img1, img2), label\n",
        "\n",
        "    def get_relative_patch(self, img):\n",
        "        width, height = img.size\n",
        "        patch_size = (height // 4, width // 4)\n",
        "\n",
        "        center_x = np.random.randint(patch_size[1] // 2, width - patch_size[1] // 2)\n",
        "        center_y = np.random.randint(patch_size[0] // 2, height - patch_size[0] // 2)\n",
        "        left_x = center_x - patch_size[1] // 2\n",
        "        right_x = center_x + patch_size[1] // 2\n",
        "        top_y = center_y - patch_size[0] // 2\n",
        "        bottom_y = center_y + patch_size[0] // 2\n",
        "\n",
        "        patch1 = img.crop((left_x, top_y, right_x, bottom_y))\n",
        "        positions = [(0, -1), (1, -1), (1, 0), (1, 1), (0, 1), (-1, 1), (-1, 0), (-1, -1)]\n",
        "        rel_pos = positions[np.random.randint(len(positions))]\n",
        "\n",
        "        center_x2 = center_x + rel_pos[0] * patch_size[1]\n",
        "        center_y2 = center_y + rel_pos[1] * patch_size[0]\n",
        "        center_x2 = max(patch_size[1] // 2, min(width - patch_size[1] // 2, center_x2))\n",
        "        center_y2 = max(patch_size[0] // 2, min(height - patch_size[0] // 2, center_y2))\n",
        "\n",
        "        left_x2 = center_x2 - patch_size[1] // 2\n",
        "        right_x2 = center_x2 + patch_size[1] // 2\n",
        "        top_y2 = center_y2 - patch_size[0] // 2\n",
        "        bottom_y2 = center_y2 + patch_size[0] // 2\n",
        "\n",
        "        patch2 = img.crop((left_x2, top_y2, right_x2, bottom_y2))\n",
        "\n",
        "        label = positions.index(rel_pos)\n",
        "        return patch1, patch2, label\n",
        "\n",
        "class PatchPredictionModel(nn.Module):\n",
        "    def __init__(self):\n",
        "        super(PatchPredictionModel, self).__init__()\n",
        "        self.features = nn.Sequential(\n",
        "            nn.Conv2d(6, 64, kernel_size=3, stride=1, padding=1),\n",
        "            nn.ReLU(),\n",
        "            nn.MaxPool2d(kernel_size=2, stride=2),\n",
        "            nn.Conv2d(64, 128, kernel_size=3, stride=1, padding=1),\n",
        "            nn.ReLU(),\n",
        "            nn.MaxPool2d(kernel_size=2, stride=2),\n",
        "        )\n",
        "        self.classifier = nn.Sequential(\n",
        "            nn.Linear(128 * 2 * 2, 1000),\n",
        "            nn.ReLU(),\n",
        "            nn.Linear(1000, 8)\n",
        "        )\n",
        "\n",
        "    def forward(self, x):\n",
        "        x = self.features(x)\n",
        "        x = x.view(x.size(0), -1)\n",
        "        x = self.classifier(x)\n",
        "        return x\n",
        "\n",
        "def train(model, train_loader, criterion, optimizer, device):\n",
        "    model.train()\n",
        "    total_loss = 0.0\n",
        "    for (img1, img2), labels in train_loader:\n",
        "        images = torch.cat((img1, img2), dim=1)\n",
        "        images, labels = images.to(device), labels.to(device)\n",
        "        optimizer.zero_grad()\n",
        "        outputs = model(images)\n",
        "        loss = criterion(outputs, labels)\n",
        "        loss.backward()\n",
        "        optimizer.step()\n",
        "        total_loss += loss.item()\n",
        "    return total_loss / len(train_loader)\n",
        "\n",
        "def evaluate(model, val_loader, criterion, device):\n",
        "    model.eval()\n",
        "    total_loss = 0.0\n",
        "    correct_top1 = 0\n",
        "    correct_top5 = 0\n",
        "    with torch.no_grad():\n",
        "        for (img1, img2), labels in val_loader:\n",
        "            images = torch.cat((img1, img2), dim=1)\n",
        "            images, labels = images.to(device), labels.to(device)\n",
        "            outputs = model(images)\n",
        "            loss = criterion(outputs, labels)\n",
        "            total_loss += loss.item()\n",
        "            _, preds = torch.topk(outputs, 5, dim=1)\n",
        "            correct_top1 += (preds[:, 0] == labels).sum().item()\n",
        "            correct_top5 += torch.sum(preds == labels.view(-1, 1)).item()\n",
        "    return total_loss / len(val_loader), correct_top1 / len(val_loader.dataset), correct_top5 / len(val_loader.dataset)\n",
        "\n",
        "batch_size = 64\n",
        "learning_rate = 0.001\n",
        "epochs = 10\n",
        "device = torch.device(\"cuda\" if torch.cuda.is_available() else \"cpu\")\n",
        "\n",
        "transform = transforms.Compose([\n",
        "    transforms.ToTensor(),\n",
        "    transforms.Normalize((0.5, 0.5, 0.5), (0.5, 0.5, 0.5))\n",
        "])\n",
        "\n",
        "if not os.path.exists('./data/cifar10-3'):\n",
        "    os.makedirs('./data/cifar10-3')\n",
        "\n",
        "full_train_dataset = RelativePatchDataset(root='./data/cifar10-3', train=True, transform=transform, download=True)\n",
        "\n",
        "train_size = int(0.8 * len(full_train_dataset))\n",
        "val_size = len(full_train_dataset) - train_size\n",
        "train_dataset, val_dataset = random_split(full_train_dataset, [train_size, val_size])\n",
        "\n",
        "test_dataset = RelativePatchDataset(root='./data/cifar10-3', train=False, transform=transform, download=True)\n",
        "\n",
        "train_loader = DataLoader(dataset=train_dataset, batch_size=batch_size, shuffle=True)\n",
        "val_loader = DataLoader(dataset=val_dataset, batch_size=batch_size, shuffle=False)\n",
        "test_loader = DataLoader(dataset=test_dataset, batch_size=batch_size, shuffle=False)\n",
        "\n",
        "model = PatchPredictionModel().to(device)\n",
        "criterion = nn.CrossEntropyLoss()\n",
        "optimizer = optim.Adam(model.parameters(), lr=learning_rate)\n",
        "\n",
        "for epoch in range(epochs):\n",
        "    train_loss = train(model, train_loader, criterion, optimizer, device)\n",
        "    val_loss, top1_accuracy, top5_accuracy = evaluate(model, val_loader, criterion, device)\n",
        "    print(f\"Epoch {epoch+1}/{epochs}, \"\n",
        "          f\"Train Loss: {train_loss:.4f}, \"\n",
        "          f\"Validation Loss: {val_loss:.4f}, \"\n",
        "          f\"Top-1 Accuracy: {top1_accuracy:.4f}, \"\n",
        "          f\"Top-5 Accuracy: {top5_accuracy:.4f}\")"
      ],
      "metadata": {
        "id": "ZXrjfZ0rz9MF",
        "colab": {
          "base_uri": "https://localhost:8080/"
        },
        "outputId": "7bea569d-9c72-422a-e4a5-833e46fdc406"
      },
      "execution_count": null,
      "outputs": [
        {
          "output_type": "stream",
          "name": "stdout",
          "text": [
            "Files already downloaded and verified\n",
            "Files already downloaded and verified\n",
            "Epoch 1/10, Train Loss: 1.9504, Validation Loss: 1.8385, Top-1 Accuracy: 0.2637, Top-5 Accuracy: 0.8482\n",
            "Epoch 2/10, Train Loss: 1.7788, Validation Loss: 1.7156, Top-1 Accuracy: 0.3213, Top-5 Accuracy: 0.8904\n",
            "Epoch 3/10, Train Loss: 1.6801, Validation Loss: 1.6826, Top-1 Accuracy: 0.3479, Top-5 Accuracy: 0.8965\n",
            "Epoch 4/10, Train Loss: 1.6189, Validation Loss: 1.5792, Top-1 Accuracy: 0.3774, Top-5 Accuracy: 0.9214\n",
            "Epoch 5/10, Train Loss: 1.5879, Validation Loss: 1.5881, Top-1 Accuracy: 0.3821, Top-5 Accuracy: 0.9207\n",
            "Epoch 6/10, Train Loss: 1.5510, Validation Loss: 1.5315, Top-1 Accuracy: 0.3981, Top-5 Accuracy: 0.9353\n",
            "Epoch 7/10, Train Loss: 1.5284, Validation Loss: 1.5112, Top-1 Accuracy: 0.4101, Top-5 Accuracy: 0.9358\n",
            "Epoch 8/10, Train Loss: 1.4950, Validation Loss: 1.4961, Top-1 Accuracy: 0.4132, Top-5 Accuracy: 0.9374\n",
            "Epoch 9/10, Train Loss: 1.4777, Validation Loss: 1.4730, Top-1 Accuracy: 0.4329, Top-5 Accuracy: 0.9377\n",
            "Epoch 10/10, Train Loss: 1.4671, Validation Loss: 1.4642, Top-1 Accuracy: 0.4298, Top-5 Accuracy: 0.9422\n"
          ]
        }
      ]
    },
    {
      "cell_type": "markdown",
      "source": [
        "We execute the model on the test set"
      ],
      "metadata": {
        "id": "VMnsicci1Bkd"
      }
    },
    {
      "cell_type": "code",
      "source": [
        "test_loss, Patch_CIFAR_top1_accuracy, Patch_CIFAR_top5_accuracy = evaluate(model, test_loader, criterion, device)\n",
        "print('Relative patch position prediction \\nTOP 1 accuracy : ',Patch_CIFAR_top1_accuracy,'\\nTOP 5 accuracy : ',Patch_CIFAR_top5_accuracy)"
      ],
      "metadata": {
        "id": "2524QT9T1ArT",
        "colab": {
          "base_uri": "https://localhost:8080/"
        },
        "outputId": "a6a68bb8-f813-4df5-a6d8-f78e19556274"
      },
      "execution_count": null,
      "outputs": [
        {
          "output_type": "stream",
          "name": "stdout",
          "text": [
            "Relative patch position prediction \n",
            "TOP 1 accuracy :  0.4295 \n",
            "TOP 5 accuracy :  0.9468\n"
          ]
        }
      ]
    },
    {
      "cell_type": "markdown",
      "source": [
        "**Question 6 :** We compare the relative patch position prediction models with the previous models on each dataset"
      ],
      "metadata": {
        "id": "lgGAyoki1EWJ"
      }
    },
    {
      "cell_type": "markdown",
      "source": [
        "Cifar10"
      ],
      "metadata": {
        "id": "DYVtB6uJ1g56"
      }
    },
    {
      "cell_type": "code",
      "source": [
        "Patch_CIFAR_top1_accuracy *=100\n",
        "Patch_CIFAR_top5_accuracy *=100"
      ],
      "metadata": {
        "id": "u90rTsKKtJMk"
      },
      "execution_count": null,
      "outputs": []
    },
    {
      "cell_type": "code",
      "source": [
        "import numpy as np\n",
        "import matplotlib.pyplot as plt\n",
        "\n",
        "plt.figure()\n",
        "\n",
        "labels = ['Context_Encoder', 'RotationPrediction', 'SimCLR', 'Patch_Position']\n",
        "bar_width = 0.25\n",
        "x = np.arange(len(labels))\n",
        "plt.bar(x - bar_width, [Cifar10Context_encoder_accuracy[0], Cifar10Rotation_accuracy[0], Cifar10SimCLR_accuracy[0], Patch_CIFAR_top1_accuracy], width=bar_width, label='Top 1 accuracy')\n",
        "plt.bar(x, [Cifar10Context_encoder_accuracy[1], Cifar10Rotation_accuracy[1], Cifar10SimCLR_accuracy[1], Patch_CIFAR_top5_accuracy], width=bar_width, label='top 5 accuracy')\n",
        "plt.xticks(x, labels)\n",
        "plt.legend()\n",
        "plt.xlabel('Task')\n",
        "plt.ylabel('Accuracy %')\n",
        "plt.title('Cifar10 - Comparison between the 4 models')\n",
        "\n",
        "plt.show()"
      ],
      "metadata": {
        "id": "360LhiVC1aE8",
        "colab": {
          "base_uri": "https://localhost:8080/",
          "height": 472
        },
        "outputId": "dca27d22-9856-4954-952f-91330ef72f52"
      },
      "execution_count": null,
      "outputs": [
        {
          "output_type": "display_data",
          "data": {
            "text/plain": [
              "<Figure size 640x480 with 1 Axes>"
            ],
            "image/png": "[encoded data removed]"
          },
          "metadata": {}
        }
      ]
    },
    {
      "cell_type": "markdown",
      "source": [
        "Imagenet10"
      ],
      "metadata": {
        "id": "h5N2F8TM1iTG"
      }
    },
    {
      "cell_type": "code",
      "source": [
        "Patch_IMAGENET_top1_accuracy *=100\n",
        "Patch_IMAGENET_top5_accuracy *=100"
      ],
      "metadata": {
        "id": "a3ot-Mg5qQhq"
      },
      "execution_count": null,
      "outputs": []
    },
    {
      "cell_type": "code",
      "source": [
        "import numpy as np\n",
        "import matplotlib.pyplot as plt\n",
        "\n",
        "plt.figure()\n",
        "\n",
        "labels = ['Context_Encoder', 'RotationPrediction', 'SimCLR', 'Patch_Position']\n",
        "bar_width = 0.25\n",
        "x = np.arange(len(labels))\n",
        "plt.bar(x - bar_width, [Imagenet10Context_encoder_accuracy[0], Imagenet10Rotation_accuracy[0], Imagenet10SimCLR_accuracy[0], Patch_IMAGENET_top1_accuracy], width=bar_width, label='Top 1 accuracy')\n",
        "plt.bar(x, [Imagenet10Context_encoder_accuracy[1], Imagenet10Rotation_accuracy[1], Imagenet10SimCLR_accuracy[1],Patch_IMAGENET_top5_accuracy], width=bar_width, label='top 5 accuracy')\n",
        "plt.xticks(x, labels)\n",
        "plt.legend()\n",
        "plt.xlabel('Task')\n",
        "plt.ylabel('Accuracy %')\n",
        "plt.title('Imagenet10 - Comparison between the 4 models')\n",
        "\n",
        "plt.show()"
      ],
      "metadata": {
        "id": "UuUSiA9X1jnS",
        "colab": {
          "base_uri": "https://localhost:8080/",
          "height": 472
        },
        "outputId": "6afb5437-e78c-4bcb-945c-9a09e95dad84"
      },
      "execution_count": null,
      "outputs": [
        {
          "output_type": "display_data",
          "data": {
            "text/plain": [
              "<Figure size 640x480 with 1 Axes>"
            ],
            "image/png": "[encoded data removed]"
          },
          "metadata": {}
        }
      ]
    },
    {
      "cell_type": "markdown",
      "source": [
        "**The report contains all the conclusions and hypotheses that were made for each question.**\n",
        "\n",
        "Thank you for your time."
      ],
      "metadata": {
        "id": "KHWA5upN1nEX"
      }
    }
  ]
}